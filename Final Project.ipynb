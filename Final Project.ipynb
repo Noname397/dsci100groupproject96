{
 "cells": [
  {
   "cell_type": "code",
   "execution_count": 39,
   "id": "7a6e561b-8ed0-4305-9df9-5e3d346e6d2c",
   "metadata": {},
   "outputs": [],
   "source": [
    "library(tidyverse)\n",
    "library(repr)\n",
    "options(repr.matrix.max.rows = 6)\n",
    "library(testthat)\n",
    "library(digest)\n",
    "library(tidymodels)"
   ]
  },
  {
   "cell_type": "code",
   "execution_count": 40,
   "id": "e0b66b94-1162-42b9-b594-5b788c2208f5",
   "metadata": {},
   "outputs": [
    {
     "data": {
      "text/html": [
       "<table class=\"dataframe\">\n",
       "<caption>A data.frame: 35064 × 18</caption>\n",
       "<thead>\n",
       "\t<tr><th scope=col>No</th><th scope=col>year</th><th scope=col>month</th><th scope=col>day</th><th scope=col>hour</th><th scope=col>PM2.5</th><th scope=col>PM10</th><th scope=col>SO2</th><th scope=col>NO2</th><th scope=col>CO</th><th scope=col>O3</th><th scope=col>TEMP</th><th scope=col>PRES</th><th scope=col>DEWP</th><th scope=col>RAIN</th><th scope=col>wd</th><th scope=col>WSPM</th><th scope=col>station</th></tr>\n",
       "\t<tr><th scope=col>&lt;int&gt;</th><th scope=col>&lt;int&gt;</th><th scope=col>&lt;int&gt;</th><th scope=col>&lt;int&gt;</th><th scope=col>&lt;int&gt;</th><th scope=col>&lt;dbl&gt;</th><th scope=col>&lt;dbl&gt;</th><th scope=col>&lt;dbl&gt;</th><th scope=col>&lt;dbl&gt;</th><th scope=col>&lt;int&gt;</th><th scope=col>&lt;dbl&gt;</th><th scope=col>&lt;dbl&gt;</th><th scope=col>&lt;dbl&gt;</th><th scope=col>&lt;dbl&gt;</th><th scope=col>&lt;dbl&gt;</th><th scope=col>&lt;chr&gt;</th><th scope=col>&lt;dbl&gt;</th><th scope=col>&lt;chr&gt;</th></tr>\n",
       "</thead>\n",
       "<tbody>\n",
       "\t<tr><td>1</td><td>2013</td><td>3</td><td>1</td><td>0</td><td>6</td><td> 6</td><td>4</td><td> 8</td><td>300</td><td>81</td><td>-0.5</td><td>1024.5</td><td>-21.4</td><td>0</td><td>NNW</td><td>5.7</td><td>Tiantan</td></tr>\n",
       "\t<tr><td>2</td><td>2013</td><td>3</td><td>1</td><td>1</td><td>6</td><td>29</td><td>5</td><td> 9</td><td>300</td><td>80</td><td>-0.7</td><td>1025.1</td><td>-22.1</td><td>0</td><td>NW </td><td>3.9</td><td>Tiantan</td></tr>\n",
       "\t<tr><td>3</td><td>2013</td><td>3</td><td>1</td><td>2</td><td>6</td><td> 6</td><td>4</td><td>12</td><td>300</td><td>75</td><td>-1.2</td><td>1025.3</td><td>-24.6</td><td>0</td><td>NNW</td><td>5.3</td><td>Tiantan</td></tr>\n",
       "\t<tr><td>⋮</td><td>⋮</td><td>⋮</td><td>⋮</td><td>⋮</td><td>⋮</td><td>⋮</td><td>⋮</td><td>⋮</td><td>⋮</td><td>⋮</td><td>⋮</td><td>⋮</td><td>⋮</td><td>⋮</td><td>⋮</td><td>⋮</td><td>⋮</td></tr>\n",
       "\t<tr><td>35062</td><td>2017</td><td>2</td><td>28</td><td>21</td><td>18</td><td>32</td><td>4</td><td>48</td><td>500</td><td>48</td><td>10.8</td><td>1014.2</td><td>-13.3</td><td>0</td><td>NW </td><td>1.1</td><td>Tiantan</td></tr>\n",
       "\t<tr><td>35063</td><td>2017</td><td>2</td><td>28</td><td>22</td><td>15</td><td>42</td><td>5</td><td>52</td><td>600</td><td>44</td><td>10.5</td><td>1014.4</td><td>-12.9</td><td>0</td><td>NNW</td><td>1.2</td><td>Tiantan</td></tr>\n",
       "\t<tr><td>35064</td><td>2017</td><td>2</td><td>28</td><td>23</td><td>15</td><td>50</td><td>5</td><td>68</td><td>700</td><td>21</td><td> 8.6</td><td>1014.1</td><td>-15.9</td><td>0</td><td>NNE</td><td>1.3</td><td>Tiantan</td></tr>\n",
       "</tbody>\n",
       "</table>\n"
      ],
      "text/latex": [
       "A data.frame: 35064 × 18\n",
       "\\begin{tabular}{llllllllllllllllll}\n",
       " No & year & month & day & hour & PM2.5 & PM10 & SO2 & NO2 & CO & O3 & TEMP & PRES & DEWP & RAIN & wd & WSPM & station\\\\\n",
       " <int> & <int> & <int> & <int> & <int> & <dbl> & <dbl> & <dbl> & <dbl> & <int> & <dbl> & <dbl> & <dbl> & <dbl> & <dbl> & <chr> & <dbl> & <chr>\\\\\n",
       "\\hline\n",
       "\t 1 & 2013 & 3 & 1 & 0 & 6 &  6 & 4 &  8 & 300 & 81 & -0.5 & 1024.5 & -21.4 & 0 & NNW & 5.7 & Tiantan\\\\\n",
       "\t 2 & 2013 & 3 & 1 & 1 & 6 & 29 & 5 &  9 & 300 & 80 & -0.7 & 1025.1 & -22.1 & 0 & NW  & 3.9 & Tiantan\\\\\n",
       "\t 3 & 2013 & 3 & 1 & 2 & 6 &  6 & 4 & 12 & 300 & 75 & -1.2 & 1025.3 & -24.6 & 0 & NNW & 5.3 & Tiantan\\\\\n",
       "\t ⋮ & ⋮ & ⋮ & ⋮ & ⋮ & ⋮ & ⋮ & ⋮ & ⋮ & ⋮ & ⋮ & ⋮ & ⋮ & ⋮ & ⋮ & ⋮ & ⋮ & ⋮\\\\\n",
       "\t 35062 & 2017 & 2 & 28 & 21 & 18 & 32 & 4 & 48 & 500 & 48 & 10.8 & 1014.2 & -13.3 & 0 & NW  & 1.1 & Tiantan\\\\\n",
       "\t 35063 & 2017 & 2 & 28 & 22 & 15 & 42 & 5 & 52 & 600 & 44 & 10.5 & 1014.4 & -12.9 & 0 & NNW & 1.2 & Tiantan\\\\\n",
       "\t 35064 & 2017 & 2 & 28 & 23 & 15 & 50 & 5 & 68 & 700 & 21 &  8.6 & 1014.1 & -15.9 & 0 & NNE & 1.3 & Tiantan\\\\\n",
       "\\end{tabular}\n"
      ],
      "text/markdown": [
       "\n",
       "A data.frame: 35064 × 18\n",
       "\n",
       "| No &lt;int&gt; | year &lt;int&gt; | month &lt;int&gt; | day &lt;int&gt; | hour &lt;int&gt; | PM2.5 &lt;dbl&gt; | PM10 &lt;dbl&gt; | SO2 &lt;dbl&gt; | NO2 &lt;dbl&gt; | CO &lt;int&gt; | O3 &lt;dbl&gt; | TEMP &lt;dbl&gt; | PRES &lt;dbl&gt; | DEWP &lt;dbl&gt; | RAIN &lt;dbl&gt; | wd &lt;chr&gt; | WSPM &lt;dbl&gt; | station &lt;chr&gt; |\n",
       "|---|---|---|---|---|---|---|---|---|---|---|---|---|---|---|---|---|---|\n",
       "| 1 | 2013 | 3 | 1 | 0 | 6 |  6 | 4 |  8 | 300 | 81 | -0.5 | 1024.5 | -21.4 | 0 | NNW | 5.7 | Tiantan |\n",
       "| 2 | 2013 | 3 | 1 | 1 | 6 | 29 | 5 |  9 | 300 | 80 | -0.7 | 1025.1 | -22.1 | 0 | NW  | 3.9 | Tiantan |\n",
       "| 3 | 2013 | 3 | 1 | 2 | 6 |  6 | 4 | 12 | 300 | 75 | -1.2 | 1025.3 | -24.6 | 0 | NNW | 5.3 | Tiantan |\n",
       "| ⋮ | ⋮ | ⋮ | ⋮ | ⋮ | ⋮ | ⋮ | ⋮ | ⋮ | ⋮ | ⋮ | ⋮ | ⋮ | ⋮ | ⋮ | ⋮ | ⋮ | ⋮ |\n",
       "| 35062 | 2017 | 2 | 28 | 21 | 18 | 32 | 4 | 48 | 500 | 48 | 10.8 | 1014.2 | -13.3 | 0 | NW  | 1.1 | Tiantan |\n",
       "| 35063 | 2017 | 2 | 28 | 22 | 15 | 42 | 5 | 52 | 600 | 44 | 10.5 | 1014.4 | -12.9 | 0 | NNW | 1.2 | Tiantan |\n",
       "| 35064 | 2017 | 2 | 28 | 23 | 15 | 50 | 5 | 68 | 700 | 21 |  8.6 | 1014.1 | -15.9 | 0 | NNE | 1.3 | Tiantan |\n",
       "\n"
      ],
      "text/plain": [
       "      No    year month day hour PM2.5 PM10 SO2 NO2 CO  O3 TEMP PRES   DEWP \n",
       "1     1     2013 3     1   0    6      6   4    8  300 81 -0.5 1024.5 -21.4\n",
       "2     2     2013 3     1   1    6     29   5    9  300 80 -0.7 1025.1 -22.1\n",
       "3     3     2013 3     1   2    6      6   4   12  300 75 -1.2 1025.3 -24.6\n",
       "⋮     ⋮     ⋮    ⋮     ⋮   ⋮    ⋮     ⋮    ⋮   ⋮   ⋮   ⋮  ⋮    ⋮      ⋮    \n",
       "35062 35062 2017 2     28  21   18    32   4   48  500 48 10.8 1014.2 -13.3\n",
       "35063 35063 2017 2     28  22   15    42   5   52  600 44 10.5 1014.4 -12.9\n",
       "35064 35064 2017 2     28  23   15    50   5   68  700 21  8.6 1014.1 -15.9\n",
       "      RAIN wd  WSPM station\n",
       "1     0    NNW 5.7  Tiantan\n",
       "2     0    NW  3.9  Tiantan\n",
       "3     0    NNW 5.3  Tiantan\n",
       "⋮     ⋮    ⋮   ⋮    ⋮      \n",
       "35062 0    NW  1.1  Tiantan\n",
       "35063 0    NNW 1.2  Tiantan\n",
       "35064 0    NNE 1.3  Tiantan"
      ]
     },
     "metadata": {},
     "output_type": "display_data"
    }
   ],
   "source": [
    "weather_data <- read.csv(\"https://www.dropbox.com/s/2vo6d6ynrsxpavp/PRSA_Data_Tiantan_20130301-20170228.csv?dl=1\")\n",
    "weather_data"
   ]
  },
  {
   "cell_type": "code",
   "execution_count": 41,
   "id": "641145c4-a2f4-439f-a54a-e59c413cfaf3",
   "metadata": {},
   "outputs": [
    {
     "name": "stderr",
     "output_type": "stream",
     "text": [
      "\u001b[1m\u001b[22m`summarise()` has grouped output by 'year', 'month'. You can override using the\n",
      "`.groups` argument.\n"
     ]
    },
    {
     "data": {
      "text/html": [
       "<table class=\"dataframe\">\n",
       "<caption>A tibble: 1252 × 5</caption>\n",
       "<thead>\n",
       "\t<tr><th scope=col>TEMP</th><th scope=col>PRES</th><th scope=col>DEWP</th><th scope=col>RAIN</th><th scope=col>PM2.5</th></tr>\n",
       "\t<tr><th scope=col>&lt;dbl&gt;</th><th scope=col>&lt;dbl&gt;</th><th scope=col>&lt;dbl&gt;</th><th scope=col>&lt;dbl&gt;</th><th scope=col>&lt;dbl&gt;</th></tr>\n",
       "</thead>\n",
       "<tbody>\n",
       "\t<tr><td>1.3250000</td><td>1028.783</td><td>-21.46667</td><td>0</td><td> 8.62500</td></tr>\n",
       "\t<tr><td>0.4916667</td><td>1028.850</td><td>-16.96250</td><td>0</td><td>31.70833</td></tr>\n",
       "\t<tr><td>4.9875000</td><td>1016.458</td><td>-12.31250</td><td>0</td><td>98.04167</td></tr>\n",
       "\t<tr><td>⋮</td><td>⋮</td><td>⋮</td><td>⋮</td><td>⋮</td></tr>\n",
       "\t<tr><td> 7.245833</td><td>1018.812</td><td>-10.754167</td><td>0</td><td>10.20833</td></tr>\n",
       "\t<tr><td> 7.208333</td><td>1020.337</td><td> -8.258333</td><td>0</td><td>24.16667</td></tr>\n",
       "\t<tr><td>10.958333</td><td>1014.888</td><td>-12.783333</td><td>0</td><td>14.87500</td></tr>\n",
       "</tbody>\n",
       "</table>\n"
      ],
      "text/latex": [
       "A tibble: 1252 × 5\n",
       "\\begin{tabular}{lllll}\n",
       " TEMP & PRES & DEWP & RAIN & PM2.5\\\\\n",
       " <dbl> & <dbl> & <dbl> & <dbl> & <dbl>\\\\\n",
       "\\hline\n",
       "\t 1.3250000 & 1028.783 & -21.46667 & 0 &  8.62500\\\\\n",
       "\t 0.4916667 & 1028.850 & -16.96250 & 0 & 31.70833\\\\\n",
       "\t 4.9875000 & 1016.458 & -12.31250 & 0 & 98.04167\\\\\n",
       "\t ⋮ & ⋮ & ⋮ & ⋮ & ⋮\\\\\n",
       "\t  7.245833 & 1018.812 & -10.754167 & 0 & 10.20833\\\\\n",
       "\t  7.208333 & 1020.337 &  -8.258333 & 0 & 24.16667\\\\\n",
       "\t 10.958333 & 1014.888 & -12.783333 & 0 & 14.87500\\\\\n",
       "\\end{tabular}\n"
      ],
      "text/markdown": [
       "\n",
       "A tibble: 1252 × 5\n",
       "\n",
       "| TEMP &lt;dbl&gt; | PRES &lt;dbl&gt; | DEWP &lt;dbl&gt; | RAIN &lt;dbl&gt; | PM2.5 &lt;dbl&gt; |\n",
       "|---|---|---|---|---|\n",
       "| 1.3250000 | 1028.783 | -21.46667 | 0 |  8.62500 |\n",
       "| 0.4916667 | 1028.850 | -16.96250 | 0 | 31.70833 |\n",
       "| 4.9875000 | 1016.458 | -12.31250 | 0 | 98.04167 |\n",
       "| ⋮ | ⋮ | ⋮ | ⋮ | ⋮ |\n",
       "|  7.245833 | 1018.812 | -10.754167 | 0 | 10.20833 |\n",
       "|  7.208333 | 1020.337 |  -8.258333 | 0 | 24.16667 |\n",
       "| 10.958333 | 1014.888 | -12.783333 | 0 | 14.87500 |\n",
       "\n"
      ],
      "text/plain": [
       "     TEMP      PRES     DEWP       RAIN PM2.5   \n",
       "1    1.3250000 1028.783 -21.46667  0     8.62500\n",
       "2    0.4916667 1028.850 -16.96250  0    31.70833\n",
       "3    4.9875000 1016.458 -12.31250  0    98.04167\n",
       "⋮    ⋮         ⋮        ⋮          ⋮    ⋮       \n",
       "1250  7.245833 1018.812 -10.754167 0    10.20833\n",
       "1251  7.208333 1020.337  -8.258333 0    24.16667\n",
       "1252 10.958333 1014.888 -12.783333 0    14.87500"
      ]
     },
     "metadata": {},
     "output_type": "display_data"
    }
   ],
   "source": [
    "tidy_data <- weather_data |> group_by(year, month, day) |> \n",
    "summarize(TEMP = mean(TEMP), PRES = mean(PRES), DEWP = mean(DEWP), RAIN = mean(RAIN), PM2.5 = mean(PM2.5)) |> ungroup() |> select(-year, -month, -day) |> na.omit()\n",
    "\n",
    "tidy_data\n",
    "print(\"test\")"
   ]
  },
  {
   "cell_type": "code",
   "execution_count": null,
   "id": "805ad300-564b-4865-9056-8fdd3d0abbf1",
   "metadata": {},
   "outputs": [],
   "source": []
  }
 ],
 "metadata": {
  "kernelspec": {
   "display_name": "R",
   "language": "R",
   "name": "ir"
  },
  "language_info": {
   "codemirror_mode": "r",
   "file_extension": ".r",
   "mimetype": "text/x-r-source",
   "name": "R",
   "pygments_lexer": "r",
   "version": "4.1.3"
  }
 },
 "nbformat": 4,
 "nbformat_minor": 5
}
