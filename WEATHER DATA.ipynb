{
 "cells": [
  {
   "cell_type": "code",
   "execution_count": 16,
   "id": "d9fa05bf-07ab-483f-9b9f-9bb41312208b",
   "metadata": {},
   "outputs": [],
   "source": [
    "library(tidyverse)\n",
    "library(repr)\n",
    "options(repr.matrix.max.rows = 6)\n",
    "library(testthat)\n",
    "library(digest)\n",
    "library(tidymodels)"
   ]
  },
  {
   "cell_type": "code",
   "execution_count": 17,
   "id": "02e8f071-2511-4632-a10c-1cb13bc789af",
   "metadata": {},
   "outputs": [
    {
     "data": {
      "text/html": [
       "<table class=\"dataframe\">\n",
       "<caption>A data.frame: 35064 × 18</caption>\n",
       "<thead>\n",
       "\t<tr><th scope=col>No</th><th scope=col>year</th><th scope=col>month</th><th scope=col>day</th><th scope=col>hour</th><th scope=col>PM2.5</th><th scope=col>PM10</th><th scope=col>SO2</th><th scope=col>NO2</th><th scope=col>CO</th><th scope=col>O3</th><th scope=col>TEMP</th><th scope=col>PRES</th><th scope=col>DEWP</th><th scope=col>RAIN</th><th scope=col>wd</th><th scope=col>WSPM</th><th scope=col>station</th></tr>\n",
       "\t<tr><th scope=col>&lt;int&gt;</th><th scope=col>&lt;int&gt;</th><th scope=col>&lt;int&gt;</th><th scope=col>&lt;int&gt;</th><th scope=col>&lt;int&gt;</th><th scope=col>&lt;dbl&gt;</th><th scope=col>&lt;dbl&gt;</th><th scope=col>&lt;dbl&gt;</th><th scope=col>&lt;dbl&gt;</th><th scope=col>&lt;int&gt;</th><th scope=col>&lt;dbl&gt;</th><th scope=col>&lt;dbl&gt;</th><th scope=col>&lt;dbl&gt;</th><th scope=col>&lt;dbl&gt;</th><th scope=col>&lt;dbl&gt;</th><th scope=col>&lt;chr&gt;</th><th scope=col>&lt;dbl&gt;</th><th scope=col>&lt;chr&gt;</th></tr>\n",
       "</thead>\n",
       "<tbody>\n",
       "\t<tr><td>1</td><td>2013</td><td>3</td><td>1</td><td>0</td><td>6</td><td> 6</td><td>4</td><td> 8</td><td>300</td><td>81</td><td>-0.5</td><td>1024.5</td><td>-21.4</td><td>0</td><td>NNW</td><td>5.7</td><td>Tiantan</td></tr>\n",
       "\t<tr><td>2</td><td>2013</td><td>3</td><td>1</td><td>1</td><td>6</td><td>29</td><td>5</td><td> 9</td><td>300</td><td>80</td><td>-0.7</td><td>1025.1</td><td>-22.1</td><td>0</td><td>NW </td><td>3.9</td><td>Tiantan</td></tr>\n",
       "\t<tr><td>3</td><td>2013</td><td>3</td><td>1</td><td>2</td><td>6</td><td> 6</td><td>4</td><td>12</td><td>300</td><td>75</td><td>-1.2</td><td>1025.3</td><td>-24.6</td><td>0</td><td>NNW</td><td>5.3</td><td>Tiantan</td></tr>\n",
       "\t<tr><td>⋮</td><td>⋮</td><td>⋮</td><td>⋮</td><td>⋮</td><td>⋮</td><td>⋮</td><td>⋮</td><td>⋮</td><td>⋮</td><td>⋮</td><td>⋮</td><td>⋮</td><td>⋮</td><td>⋮</td><td>⋮</td><td>⋮</td><td>⋮</td></tr>\n",
       "\t<tr><td>35062</td><td>2017</td><td>2</td><td>28</td><td>21</td><td>18</td><td>32</td><td>4</td><td>48</td><td>500</td><td>48</td><td>10.8</td><td>1014.2</td><td>-13.3</td><td>0</td><td>NW </td><td>1.1</td><td>Tiantan</td></tr>\n",
       "\t<tr><td>35063</td><td>2017</td><td>2</td><td>28</td><td>22</td><td>15</td><td>42</td><td>5</td><td>52</td><td>600</td><td>44</td><td>10.5</td><td>1014.4</td><td>-12.9</td><td>0</td><td>NNW</td><td>1.2</td><td>Tiantan</td></tr>\n",
       "\t<tr><td>35064</td><td>2017</td><td>2</td><td>28</td><td>23</td><td>15</td><td>50</td><td>5</td><td>68</td><td>700</td><td>21</td><td> 8.6</td><td>1014.1</td><td>-15.9</td><td>0</td><td>NNE</td><td>1.3</td><td>Tiantan</td></tr>\n",
       "</tbody>\n",
       "</table>\n"
      ],
      "text/latex": [
       "A data.frame: 35064 × 18\n",
       "\\begin{tabular}{llllllllllllllllll}\n",
       " No & year & month & day & hour & PM2.5 & PM10 & SO2 & NO2 & CO & O3 & TEMP & PRES & DEWP & RAIN & wd & WSPM & station\\\\\n",
       " <int> & <int> & <int> & <int> & <int> & <dbl> & <dbl> & <dbl> & <dbl> & <int> & <dbl> & <dbl> & <dbl> & <dbl> & <dbl> & <chr> & <dbl> & <chr>\\\\\n",
       "\\hline\n",
       "\t 1 & 2013 & 3 & 1 & 0 & 6 &  6 & 4 &  8 & 300 & 81 & -0.5 & 1024.5 & -21.4 & 0 & NNW & 5.7 & Tiantan\\\\\n",
       "\t 2 & 2013 & 3 & 1 & 1 & 6 & 29 & 5 &  9 & 300 & 80 & -0.7 & 1025.1 & -22.1 & 0 & NW  & 3.9 & Tiantan\\\\\n",
       "\t 3 & 2013 & 3 & 1 & 2 & 6 &  6 & 4 & 12 & 300 & 75 & -1.2 & 1025.3 & -24.6 & 0 & NNW & 5.3 & Tiantan\\\\\n",
       "\t ⋮ & ⋮ & ⋮ & ⋮ & ⋮ & ⋮ & ⋮ & ⋮ & ⋮ & ⋮ & ⋮ & ⋮ & ⋮ & ⋮ & ⋮ & ⋮ & ⋮ & ⋮\\\\\n",
       "\t 35062 & 2017 & 2 & 28 & 21 & 18 & 32 & 4 & 48 & 500 & 48 & 10.8 & 1014.2 & -13.3 & 0 & NW  & 1.1 & Tiantan\\\\\n",
       "\t 35063 & 2017 & 2 & 28 & 22 & 15 & 42 & 5 & 52 & 600 & 44 & 10.5 & 1014.4 & -12.9 & 0 & NNW & 1.2 & Tiantan\\\\\n",
       "\t 35064 & 2017 & 2 & 28 & 23 & 15 & 50 & 5 & 68 & 700 & 21 &  8.6 & 1014.1 & -15.9 & 0 & NNE & 1.3 & Tiantan\\\\\n",
       "\\end{tabular}\n"
      ],
      "text/markdown": [
       "\n",
       "A data.frame: 35064 × 18\n",
       "\n",
       "| No &lt;int&gt; | year &lt;int&gt; | month &lt;int&gt; | day &lt;int&gt; | hour &lt;int&gt; | PM2.5 &lt;dbl&gt; | PM10 &lt;dbl&gt; | SO2 &lt;dbl&gt; | NO2 &lt;dbl&gt; | CO &lt;int&gt; | O3 &lt;dbl&gt; | TEMP &lt;dbl&gt; | PRES &lt;dbl&gt; | DEWP &lt;dbl&gt; | RAIN &lt;dbl&gt; | wd &lt;chr&gt; | WSPM &lt;dbl&gt; | station &lt;chr&gt; |\n",
       "|---|---|---|---|---|---|---|---|---|---|---|---|---|---|---|---|---|---|\n",
       "| 1 | 2013 | 3 | 1 | 0 | 6 |  6 | 4 |  8 | 300 | 81 | -0.5 | 1024.5 | -21.4 | 0 | NNW | 5.7 | Tiantan |\n",
       "| 2 | 2013 | 3 | 1 | 1 | 6 | 29 | 5 |  9 | 300 | 80 | -0.7 | 1025.1 | -22.1 | 0 | NW  | 3.9 | Tiantan |\n",
       "| 3 | 2013 | 3 | 1 | 2 | 6 |  6 | 4 | 12 | 300 | 75 | -1.2 | 1025.3 | -24.6 | 0 | NNW | 5.3 | Tiantan |\n",
       "| ⋮ | ⋮ | ⋮ | ⋮ | ⋮ | ⋮ | ⋮ | ⋮ | ⋮ | ⋮ | ⋮ | ⋮ | ⋮ | ⋮ | ⋮ | ⋮ | ⋮ | ⋮ |\n",
       "| 35062 | 2017 | 2 | 28 | 21 | 18 | 32 | 4 | 48 | 500 | 48 | 10.8 | 1014.2 | -13.3 | 0 | NW  | 1.1 | Tiantan |\n",
       "| 35063 | 2017 | 2 | 28 | 22 | 15 | 42 | 5 | 52 | 600 | 44 | 10.5 | 1014.4 | -12.9 | 0 | NNW | 1.2 | Tiantan |\n",
       "| 35064 | 2017 | 2 | 28 | 23 | 15 | 50 | 5 | 68 | 700 | 21 |  8.6 | 1014.1 | -15.9 | 0 | NNE | 1.3 | Tiantan |\n",
       "\n"
      ],
      "text/plain": [
       "      No    year month day hour PM2.5 PM10 SO2 NO2 CO  O3 TEMP PRES   DEWP \n",
       "1     1     2013 3     1   0    6      6   4    8  300 81 -0.5 1024.5 -21.4\n",
       "2     2     2013 3     1   1    6     29   5    9  300 80 -0.7 1025.1 -22.1\n",
       "3     3     2013 3     1   2    6      6   4   12  300 75 -1.2 1025.3 -24.6\n",
       "⋮     ⋮     ⋮    ⋮     ⋮   ⋮    ⋮     ⋮    ⋮   ⋮   ⋮   ⋮  ⋮    ⋮      ⋮    \n",
       "35062 35062 2017 2     28  21   18    32   4   48  500 48 10.8 1014.2 -13.3\n",
       "35063 35063 2017 2     28  22   15    42   5   52  600 44 10.5 1014.4 -12.9\n",
       "35064 35064 2017 2     28  23   15    50   5   68  700 21  8.6 1014.1 -15.9\n",
       "      RAIN wd  WSPM station\n",
       "1     0    NNW 5.7  Tiantan\n",
       "2     0    NW  3.9  Tiantan\n",
       "3     0    NNW 5.3  Tiantan\n",
       "⋮     ⋮    ⋮   ⋮    ⋮      \n",
       "35062 0    NW  1.1  Tiantan\n",
       "35063 0    NNW 1.2  Tiantan\n",
       "35064 0    NNE 1.3  Tiantan"
      ]
     },
     "metadata": {},
     "output_type": "display_data"
    }
   ],
   "source": [
    "weather_data <- read.csv(\"PRSA_Data_Tiantan_20130301-20170228.csv\")\n",
    "weather_data"
   ]
  },
  {
   "cell_type": "code",
   "execution_count": 18,
   "id": "2b812607-f2df-4f0b-b0d6-f14f9cb0343a",
   "metadata": {},
   "outputs": [
    {
     "data": {
      "text/html": [
       "<table class=\"dataframe\">\n",
       "<caption>A data.frame: 35064 × 8</caption>\n",
       "<thead>\n",
       "\t<tr><th scope=col>PM_2.5</th><th scope=col>CO</th><th scope=col>Temperature</th><th scope=col>Pressure</th><th scope=col>Dew_Point_Temperature</th><th scope=col>Rain</th><th scope=col>Wind_Speed</th><th scope=col>Region</th></tr>\n",
       "\t<tr><th scope=col>&lt;dbl&gt;</th><th scope=col>&lt;int&gt;</th><th scope=col>&lt;dbl&gt;</th><th scope=col>&lt;dbl&gt;</th><th scope=col>&lt;dbl&gt;</th><th scope=col>&lt;dbl&gt;</th><th scope=col>&lt;dbl&gt;</th><th scope=col>&lt;chr&gt;</th></tr>\n",
       "</thead>\n",
       "<tbody>\n",
       "\t<tr><td>6</td><td>300</td><td>-0.5</td><td>1024.5</td><td>-21.4</td><td>0</td><td>5.7</td><td>Tiantan</td></tr>\n",
       "\t<tr><td>6</td><td>300</td><td>-0.7</td><td>1025.1</td><td>-22.1</td><td>0</td><td>3.9</td><td>Tiantan</td></tr>\n",
       "\t<tr><td>6</td><td>300</td><td>-1.2</td><td>1025.3</td><td>-24.6</td><td>0</td><td>5.3</td><td>Tiantan</td></tr>\n",
       "\t<tr><td>⋮</td><td>⋮</td><td>⋮</td><td>⋮</td><td>⋮</td><td>⋮</td><td>⋮</td><td>⋮</td></tr>\n",
       "\t<tr><td>18</td><td>500</td><td>10.8</td><td>1014.2</td><td>-13.3</td><td>0</td><td>1.1</td><td>Tiantan</td></tr>\n",
       "\t<tr><td>15</td><td>600</td><td>10.5</td><td>1014.4</td><td>-12.9</td><td>0</td><td>1.2</td><td>Tiantan</td></tr>\n",
       "\t<tr><td>15</td><td>700</td><td> 8.6</td><td>1014.1</td><td>-15.9</td><td>0</td><td>1.3</td><td>Tiantan</td></tr>\n",
       "</tbody>\n",
       "</table>\n"
      ],
      "text/latex": [
       "A data.frame: 35064 × 8\n",
       "\\begin{tabular}{llllllll}\n",
       " PM\\_2.5 & CO & Temperature & Pressure & Dew\\_Point\\_Temperature & Rain & Wind\\_Speed & Region\\\\\n",
       " <dbl> & <int> & <dbl> & <dbl> & <dbl> & <dbl> & <dbl> & <chr>\\\\\n",
       "\\hline\n",
       "\t 6 & 300 & -0.5 & 1024.5 & -21.4 & 0 & 5.7 & Tiantan\\\\\n",
       "\t 6 & 300 & -0.7 & 1025.1 & -22.1 & 0 & 3.9 & Tiantan\\\\\n",
       "\t 6 & 300 & -1.2 & 1025.3 & -24.6 & 0 & 5.3 & Tiantan\\\\\n",
       "\t ⋮ & ⋮ & ⋮ & ⋮ & ⋮ & ⋮ & ⋮ & ⋮\\\\\n",
       "\t 18 & 500 & 10.8 & 1014.2 & -13.3 & 0 & 1.1 & Tiantan\\\\\n",
       "\t 15 & 600 & 10.5 & 1014.4 & -12.9 & 0 & 1.2 & Tiantan\\\\\n",
       "\t 15 & 700 &  8.6 & 1014.1 & -15.9 & 0 & 1.3 & Tiantan\\\\\n",
       "\\end{tabular}\n"
      ],
      "text/markdown": [
       "\n",
       "A data.frame: 35064 × 8\n",
       "\n",
       "| PM_2.5 &lt;dbl&gt; | CO &lt;int&gt; | Temperature &lt;dbl&gt; | Pressure &lt;dbl&gt; | Dew_Point_Temperature &lt;dbl&gt; | Rain &lt;dbl&gt; | Wind_Speed &lt;dbl&gt; | Region &lt;chr&gt; |\n",
       "|---|---|---|---|---|---|---|---|\n",
       "| 6 | 300 | -0.5 | 1024.5 | -21.4 | 0 | 5.7 | Tiantan |\n",
       "| 6 | 300 | -0.7 | 1025.1 | -22.1 | 0 | 3.9 | Tiantan |\n",
       "| 6 | 300 | -1.2 | 1025.3 | -24.6 | 0 | 5.3 | Tiantan |\n",
       "| ⋮ | ⋮ | ⋮ | ⋮ | ⋮ | ⋮ | ⋮ | ⋮ |\n",
       "| 18 | 500 | 10.8 | 1014.2 | -13.3 | 0 | 1.1 | Tiantan |\n",
       "| 15 | 600 | 10.5 | 1014.4 | -12.9 | 0 | 1.2 | Tiantan |\n",
       "| 15 | 700 |  8.6 | 1014.1 | -15.9 | 0 | 1.3 | Tiantan |\n",
       "\n"
      ],
      "text/plain": [
       "      PM_2.5 CO  Temperature Pressure Dew_Point_Temperature Rain Wind_Speed\n",
       "1     6      300 -0.5        1024.5   -21.4                 0    5.7       \n",
       "2     6      300 -0.7        1025.1   -22.1                 0    3.9       \n",
       "3     6      300 -1.2        1025.3   -24.6                 0    5.3       \n",
       "⋮     ⋮      ⋮   ⋮           ⋮        ⋮                     ⋮    ⋮         \n",
       "35062 18     500 10.8        1014.2   -13.3                 0    1.1       \n",
       "35063 15     600 10.5        1014.4   -12.9                 0    1.2       \n",
       "35064 15     700  8.6        1014.1   -15.9                 0    1.3       \n",
       "      Region \n",
       "1     Tiantan\n",
       "2     Tiantan\n",
       "3     Tiantan\n",
       "⋮     ⋮      \n",
       "35062 Tiantan\n",
       "35063 Tiantan\n",
       "35064 Tiantan"
      ]
     },
     "metadata": {},
     "output_type": "display_data"
    }
   ],
   "source": [
    "tidy_data <- weather_data |>\n",
    "            select(-No , -year, -month, -day, -hour, -PM10, -SO2, -NO2, -O3, -wd)\n",
    "\n",
    "colnames(tidy_data) <-\n",
    "            c('PM_2.5', 'CO', 'Temperature' , 'Pressure' , 'Dew_Point_Temperature' , 'Rain' , 'Wind_Speed' , 'Region')\n",
    "\n",
    "tidy_data"
   ]
  },
  {
   "cell_type": "code",
   "execution_count": 21,
   "id": "cabb9fbe-bed4-454d-aac5-c8674316d291",
   "metadata": {},
   "outputs": [
    {
     "data": {
      "text/html": [
       "<table class=\"dataframe\">\n",
       "<caption>A data.frame: 26296 × 8</caption>\n",
       "<thead>\n",
       "\t<tr><th></th><th scope=col>PM_2.5</th><th scope=col>CO</th><th scope=col>Temperature</th><th scope=col>Pressure</th><th scope=col>Dew_Point_Temperature</th><th scope=col>Rain</th><th scope=col>Wind_Speed</th><th scope=col>Region</th></tr>\n",
       "\t<tr><th></th><th scope=col>&lt;dbl&gt;</th><th scope=col>&lt;int&gt;</th><th scope=col>&lt;dbl&gt;</th><th scope=col>&lt;dbl&gt;</th><th scope=col>&lt;dbl&gt;</th><th scope=col>&lt;dbl&gt;</th><th scope=col>&lt;dbl&gt;</th><th scope=col>&lt;chr&gt;</th></tr>\n",
       "</thead>\n",
       "<tbody>\n",
       "\t<tr><th scope=row>1</th><td>6</td><td>300</td><td>-0.5</td><td>1024.5</td><td>-21.4</td><td>0</td><td>5.7</td><td>Tiantan</td></tr>\n",
       "\t<tr><th scope=row>2</th><td>6</td><td>300</td><td>-0.7</td><td>1025.1</td><td>-22.1</td><td>0</td><td>3.9</td><td>Tiantan</td></tr>\n",
       "\t<tr><th scope=row>3</th><td>6</td><td>300</td><td>-1.2</td><td>1025.3</td><td>-24.6</td><td>0</td><td>5.3</td><td>Tiantan</td></tr>\n",
       "\t<tr><th scope=row>⋮</th><td>⋮</td><td>⋮</td><td>⋮</td><td>⋮</td><td>⋮</td><td>⋮</td><td>⋮</td><td>⋮</td></tr>\n",
       "\t<tr><th scope=row>35029</th><td>109</td><td>2200</td><td>12.1</td><td>1017.3</td><td> -5.4</td><td>0</td><td>1.2</td><td>Tiantan</td></tr>\n",
       "\t<tr><th scope=row>35030</th><td>118</td><td>2100</td><td>14.0</td><td>1015.8</td><td> -5.2</td><td>0</td><td>1.8</td><td>Tiantan</td></tr>\n",
       "\t<tr><th scope=row>35058</th><td>  9</td><td>  NA</td><td>14.2</td><td>1012.5</td><td>-14.9</td><td>0</td><td>3.1</td><td>Tiantan</td></tr>\n",
       "</tbody>\n",
       "</table>\n"
      ],
      "text/latex": [
       "A data.frame: 26296 × 8\n",
       "\\begin{tabular}{r|llllllll}\n",
       "  & PM\\_2.5 & CO & Temperature & Pressure & Dew\\_Point\\_Temperature & Rain & Wind\\_Speed & Region\\\\\n",
       "  & <dbl> & <int> & <dbl> & <dbl> & <dbl> & <dbl> & <dbl> & <chr>\\\\\n",
       "\\hline\n",
       "\t1 & 6 & 300 & -0.5 & 1024.5 & -21.4 & 0 & 5.7 & Tiantan\\\\\n",
       "\t2 & 6 & 300 & -0.7 & 1025.1 & -22.1 & 0 & 3.9 & Tiantan\\\\\n",
       "\t3 & 6 & 300 & -1.2 & 1025.3 & -24.6 & 0 & 5.3 & Tiantan\\\\\n",
       "\t⋮ & ⋮ & ⋮ & ⋮ & ⋮ & ⋮ & ⋮ & ⋮ & ⋮\\\\\n",
       "\t35029 & 109 & 2200 & 12.1 & 1017.3 &  -5.4 & 0 & 1.2 & Tiantan\\\\\n",
       "\t35030 & 118 & 2100 & 14.0 & 1015.8 &  -5.2 & 0 & 1.8 & Tiantan\\\\\n",
       "\t35058 &   9 &   NA & 14.2 & 1012.5 & -14.9 & 0 & 3.1 & Tiantan\\\\\n",
       "\\end{tabular}\n"
      ],
      "text/markdown": [
       "\n",
       "A data.frame: 26296 × 8\n",
       "\n",
       "| <!--/--> | PM_2.5 &lt;dbl&gt; | CO &lt;int&gt; | Temperature &lt;dbl&gt; | Pressure &lt;dbl&gt; | Dew_Point_Temperature &lt;dbl&gt; | Rain &lt;dbl&gt; | Wind_Speed &lt;dbl&gt; | Region &lt;chr&gt; |\n",
       "|---|---|---|---|---|---|---|---|---|\n",
       "| 1 | 6 | 300 | -0.5 | 1024.5 | -21.4 | 0 | 5.7 | Tiantan |\n",
       "| 2 | 6 | 300 | -0.7 | 1025.1 | -22.1 | 0 | 3.9 | Tiantan |\n",
       "| 3 | 6 | 300 | -1.2 | 1025.3 | -24.6 | 0 | 5.3 | Tiantan |\n",
       "| ⋮ | ⋮ | ⋮ | ⋮ | ⋮ | ⋮ | ⋮ | ⋮ | ⋮ |\n",
       "| 35029 | 109 | 2200 | 12.1 | 1017.3 |  -5.4 | 0 | 1.2 | Tiantan |\n",
       "| 35030 | 118 | 2100 | 14.0 | 1015.8 |  -5.2 | 0 | 1.8 | Tiantan |\n",
       "| 35058 |   9 |   NA | 14.2 | 1012.5 | -14.9 | 0 | 3.1 | Tiantan |\n",
       "\n"
      ],
      "text/plain": [
       "      PM_2.5 CO   Temperature Pressure Dew_Point_Temperature Rain Wind_Speed\n",
       "1     6      300  -0.5        1024.5   -21.4                 0    5.7       \n",
       "2     6      300  -0.7        1025.1   -22.1                 0    3.9       \n",
       "3     6      300  -1.2        1025.3   -24.6                 0    5.3       \n",
       "⋮     ⋮      ⋮    ⋮           ⋮        ⋮                     ⋮    ⋮         \n",
       "35029 109    2200 12.1        1017.3    -5.4                 0    1.2       \n",
       "35030 118    2100 14.0        1015.8    -5.2                 0    1.8       \n",
       "35058   9      NA 14.2        1012.5   -14.9                 0    3.1       \n",
       "      Region \n",
       "1     Tiantan\n",
       "2     Tiantan\n",
       "3     Tiantan\n",
       "⋮     ⋮      \n",
       "35029 Tiantan\n",
       "35030 Tiantan\n",
       "35058 Tiantan"
      ]
     },
     "metadata": {},
     "output_type": "display_data"
    }
   ],
   "source": [
    "weather_split <- initial_split(tidy_data, prop = 0.75, strata = \"CO\")\n",
    "weather_training <- training(weather_split)\n",
    "weather_testing <- testing(weather_split)\n",
    "weather_training"
   ]
  },
  {
   "cell_type": "code",
   "execution_count": null,
   "id": "486f9bee-bed5-432d-89b4-8c746c61442c",
   "metadata": {},
   "outputs": [],
   "source": []
  },
  {
   "cell_type": "code",
   "execution_count": null,
   "id": "cf07751b-dd8c-4d06-90c8-e10f8d0d1a66",
   "metadata": {},
   "outputs": [],
   "source": []
  }
 ],
 "metadata": {
  "kernelspec": {
   "display_name": "R",
   "language": "R",
   "name": "ir"
  },
  "language_info": {
   "codemirror_mode": "r",
   "file_extension": ".r",
   "mimetype": "text/x-r-source",
   "name": "R",
   "pygments_lexer": "r",
   "version": "4.1.3"
  }
 },
 "nbformat": 4,
 "nbformat_minor": 5
}
