{
 "cells": [
  {
   "cell_type": "markdown",
   "id": "e71e2f2c-1a56-4c35-87a2-3b1617f53179",
   "metadata": {},
   "source": [
    "## **Proposal for Air Pollution Regression Analysis**"
   ]
  },
  {
   "cell_type": "markdown",
   "id": "516bdbe1-1de0-4816-8df2-c4f3482b5746",
   "metadata": {},
   "source": [
    "## Introduction\n",
    "\n",
    "Air pollution is affected by the weather due to the moisture and the precipitation of the air affecting the concentration of pollutants through factors such as humidity, temperature, and particulate matter. For example, when it rains, particulate matter such as PM 2.5 is carried out of the air through rain droplets into groundwater, and gaseous pollutants may dissolve into the water. \n",
    "\n",
    "We’re choosing the air pollutant CO and air particles PM 2.5 because both variables frequently emerge in regards to the air pollution in Beijing, specifically the region Tiantan because of its population consisting of both locals and tourists creating a generous amount of people to be affected by. Through this data analysis, we can predict the air condition in the region and the impact it has on the community and how we can further improve it. \n",
    "\n",
    "We want to predict the concentration of the air particles PM 2.5 and air pollutants CO based on the weather which is decided by 5 variables (the temperature (C°), pressure (hPa), dew point temperature (C°), precipitation (mm), wind speed (m/s)). Questions that we came up with for this regression analysis includes :\n",
    "\n",
    "1. How does the weather affect the concentration of pollutants such as PM 2.5 CO?\n",
    "2. How does the weather affect the concentration of gas pollutants such as CO?\n",
    "\n",
    "The dataset consists of hourly concentration of air pollutants and meteorological variables from 12 air-monitoring stations in Beijing between March 1, 2013 and February 28, 2017. "
   ]
  },
  {
   "cell_type": "markdown",
   "id": "1736e381-c697-4d0e-bc9a-c236e759538f",
   "metadata": {},
   "source": [
    "## Preliminary Exploratory Data Analysis\n",
    "1. Demonstrate that the dataset can be read from the web into R \n",
    "2. Clean and wrangle your data into a tidy format"
   ]
  },
  {
   "cell_type": "code",
   "execution_count": 1,
   "id": "e0841b68-9ae8-4b29-a8de-8c6b5cad7648",
   "metadata": {},
   "outputs": [
    {
     "name": "stderr",
     "output_type": "stream",
     "text": [
      "── \u001b[1mAttaching packages\u001b[22m ─────────────────────────────────────── tidyverse 1.3.1 ──\n",
      "\n",
      "\u001b[32m✔\u001b[39m \u001b[34mggplot2\u001b[39m 3.3.6     \u001b[32m✔\u001b[39m \u001b[34mpurrr  \u001b[39m 0.3.4\n",
      "\u001b[32m✔\u001b[39m \u001b[34mtibble \u001b[39m 3.1.7     \u001b[32m✔\u001b[39m \u001b[34mdplyr  \u001b[39m 1.0.9\n",
      "\u001b[32m✔\u001b[39m \u001b[34mtidyr  \u001b[39m 1.2.0     \u001b[32m✔\u001b[39m \u001b[34mstringr\u001b[39m 1.4.0\n",
      "\u001b[32m✔\u001b[39m \u001b[34mreadr  \u001b[39m 2.1.2     \u001b[32m✔\u001b[39m \u001b[34mforcats\u001b[39m 0.5.1\n",
      "\n",
      "── \u001b[1mConflicts\u001b[22m ────────────────────────────────────────── tidyverse_conflicts() ──\n",
      "\u001b[31m✖\u001b[39m \u001b[34mdplyr\u001b[39m::\u001b[32mfilter()\u001b[39m masks \u001b[34mstats\u001b[39m::filter()\n",
      "\u001b[31m✖\u001b[39m \u001b[34mdplyr\u001b[39m::\u001b[32mlag()\u001b[39m    masks \u001b[34mstats\u001b[39m::lag()\n",
      "\n",
      "\n",
      "Attaching package: ‘testthat’\n",
      "\n",
      "\n",
      "The following object is masked from ‘package:dplyr’:\n",
      "\n",
      "    matches\n",
      "\n",
      "\n",
      "The following object is masked from ‘package:purrr’:\n",
      "\n",
      "    is_null\n",
      "\n",
      "\n",
      "The following objects are masked from ‘package:readr’:\n",
      "\n",
      "    edition_get, local_edition\n",
      "\n",
      "\n",
      "The following object is masked from ‘package:tidyr’:\n",
      "\n",
      "    matches\n",
      "\n",
      "\n",
      "── \u001b[1mAttaching packages\u001b[22m ────────────────────────────────────── tidymodels 1.0.0 ──\n",
      "\n",
      "\u001b[32m✔\u001b[39m \u001b[34mbroom       \u001b[39m 1.0.0     \u001b[32m✔\u001b[39m \u001b[34mrsample     \u001b[39m 1.0.0\n",
      "\u001b[32m✔\u001b[39m \u001b[34mdials       \u001b[39m 1.0.0     \u001b[32m✔\u001b[39m \u001b[34mtune        \u001b[39m 1.0.0\n",
      "\u001b[32m✔\u001b[39m \u001b[34minfer       \u001b[39m 1.0.2     \u001b[32m✔\u001b[39m \u001b[34mworkflows   \u001b[39m 1.0.0\n",
      "\u001b[32m✔\u001b[39m \u001b[34mmodeldata   \u001b[39m 1.0.0     \u001b[32m✔\u001b[39m \u001b[34mworkflowsets\u001b[39m 1.0.0\n",
      "\u001b[32m✔\u001b[39m \u001b[34mparsnip     \u001b[39m 1.0.0     \u001b[32m✔\u001b[39m \u001b[34myardstick   \u001b[39m 1.0.0\n",
      "\u001b[32m✔\u001b[39m \u001b[34mrecipes     \u001b[39m 1.0.1     \n",
      "\n",
      "── \u001b[1mConflicts\u001b[22m ───────────────────────────────────────── tidymodels_conflicts() ──\n",
      "\u001b[31m✖\u001b[39m \u001b[34mscales\u001b[39m::\u001b[32mdiscard()\u001b[39m   masks \u001b[34mpurrr\u001b[39m::discard()\n",
      "\u001b[31m✖\u001b[39m \u001b[34mdplyr\u001b[39m::\u001b[32mfilter()\u001b[39m     masks \u001b[34mstats\u001b[39m::filter()\n",
      "\u001b[31m✖\u001b[39m \u001b[34mrecipes\u001b[39m::\u001b[32mfixed()\u001b[39m    masks \u001b[34mstringr\u001b[39m::fixed()\n",
      "\u001b[31m✖\u001b[39m \u001b[34mtestthat\u001b[39m::\u001b[32mis_null()\u001b[39m masks \u001b[34mpurrr\u001b[39m::is_null()\n",
      "\u001b[31m✖\u001b[39m \u001b[34mdplyr\u001b[39m::\u001b[32mlag()\u001b[39m        masks \u001b[34mstats\u001b[39m::lag()\n",
      "\u001b[31m✖\u001b[39m \u001b[34mrsample\u001b[39m::\u001b[32mmatches()\u001b[39m  masks \u001b[34mtestthat\u001b[39m::matches(), \u001b[34mdplyr\u001b[39m::matches(), \u001b[34mtidyr\u001b[39m::matches()\n",
      "\u001b[31m✖\u001b[39m \u001b[34myardstick\u001b[39m::\u001b[32mspec()\u001b[39m   masks \u001b[34mreadr\u001b[39m::spec()\n",
      "\u001b[31m✖\u001b[39m \u001b[34mrecipes\u001b[39m::\u001b[32mstep()\u001b[39m     masks \u001b[34mstats\u001b[39m::step()\n",
      "\u001b[34m•\u001b[39m Use \u001b[32mtidymodels_prefer()\u001b[39m to resolve common conflicts.\n",
      "\n"
     ]
    }
   ],
   "source": [
    "library(tidyverse)\n",
    "library(repr)\n",
    "options(repr.matrix.max.rows = 6)\n",
    "library(testthat)\n",
    "library(digest)\n",
    "library(tidymodels)"
   ]
  },
  {
   "cell_type": "markdown",
   "id": "a6206786-f5b1-4197-aaad-44a226b3dcec",
   "metadata": {},
   "source": [
    "## Data Set : Weather Data Set in the Region Tiantan "
   ]
  },
  {
   "cell_type": "code",
   "execution_count": 2,
   "id": "ef139dc9-912c-4266-85d8-8fc8d905455b",
   "metadata": {},
   "outputs": [
    {
     "data": {
      "text/html": [
       "<table class=\"dataframe\">\n",
       "<caption>A data.frame: 35064 × 18</caption>\n",
       "<thead>\n",
       "\t<tr><th scope=col>No</th><th scope=col>year</th><th scope=col>month</th><th scope=col>day</th><th scope=col>hour</th><th scope=col>PM2.5</th><th scope=col>PM10</th><th scope=col>SO2</th><th scope=col>NO2</th><th scope=col>CO</th><th scope=col>O3</th><th scope=col>TEMP</th><th scope=col>PRES</th><th scope=col>DEWP</th><th scope=col>RAIN</th><th scope=col>wd</th><th scope=col>WSPM</th><th scope=col>station</th></tr>\n",
       "\t<tr><th scope=col>&lt;int&gt;</th><th scope=col>&lt;int&gt;</th><th scope=col>&lt;int&gt;</th><th scope=col>&lt;int&gt;</th><th scope=col>&lt;int&gt;</th><th scope=col>&lt;dbl&gt;</th><th scope=col>&lt;dbl&gt;</th><th scope=col>&lt;dbl&gt;</th><th scope=col>&lt;dbl&gt;</th><th scope=col>&lt;int&gt;</th><th scope=col>&lt;dbl&gt;</th><th scope=col>&lt;dbl&gt;</th><th scope=col>&lt;dbl&gt;</th><th scope=col>&lt;dbl&gt;</th><th scope=col>&lt;dbl&gt;</th><th scope=col>&lt;chr&gt;</th><th scope=col>&lt;dbl&gt;</th><th scope=col>&lt;chr&gt;</th></tr>\n",
       "</thead>\n",
       "<tbody>\n",
       "\t<tr><td>1</td><td>2013</td><td>3</td><td>1</td><td>0</td><td>6</td><td> 6</td><td>4</td><td> 8</td><td>300</td><td>81</td><td>-0.5</td><td>1024.5</td><td>-21.4</td><td>0</td><td>NNW</td><td>5.7</td><td>Tiantan</td></tr>\n",
       "\t<tr><td>2</td><td>2013</td><td>3</td><td>1</td><td>1</td><td>6</td><td>29</td><td>5</td><td> 9</td><td>300</td><td>80</td><td>-0.7</td><td>1025.1</td><td>-22.1</td><td>0</td><td>NW </td><td>3.9</td><td>Tiantan</td></tr>\n",
       "\t<tr><td>3</td><td>2013</td><td>3</td><td>1</td><td>2</td><td>6</td><td> 6</td><td>4</td><td>12</td><td>300</td><td>75</td><td>-1.2</td><td>1025.3</td><td>-24.6</td><td>0</td><td>NNW</td><td>5.3</td><td>Tiantan</td></tr>\n",
       "\t<tr><td>⋮</td><td>⋮</td><td>⋮</td><td>⋮</td><td>⋮</td><td>⋮</td><td>⋮</td><td>⋮</td><td>⋮</td><td>⋮</td><td>⋮</td><td>⋮</td><td>⋮</td><td>⋮</td><td>⋮</td><td>⋮</td><td>⋮</td><td>⋮</td></tr>\n",
       "\t<tr><td>35062</td><td>2017</td><td>2</td><td>28</td><td>21</td><td>18</td><td>32</td><td>4</td><td>48</td><td>500</td><td>48</td><td>10.8</td><td>1014.2</td><td>-13.3</td><td>0</td><td>NW </td><td>1.1</td><td>Tiantan</td></tr>\n",
       "\t<tr><td>35063</td><td>2017</td><td>2</td><td>28</td><td>22</td><td>15</td><td>42</td><td>5</td><td>52</td><td>600</td><td>44</td><td>10.5</td><td>1014.4</td><td>-12.9</td><td>0</td><td>NNW</td><td>1.2</td><td>Tiantan</td></tr>\n",
       "\t<tr><td>35064</td><td>2017</td><td>2</td><td>28</td><td>23</td><td>15</td><td>50</td><td>5</td><td>68</td><td>700</td><td>21</td><td> 8.6</td><td>1014.1</td><td>-15.9</td><td>0</td><td>NNE</td><td>1.3</td><td>Tiantan</td></tr>\n",
       "</tbody>\n",
       "</table>\n"
      ],
      "text/latex": [
       "A data.frame: 35064 × 18\n",
       "\\begin{tabular}{llllllllllllllllll}\n",
       " No & year & month & day & hour & PM2.5 & PM10 & SO2 & NO2 & CO & O3 & TEMP & PRES & DEWP & RAIN & wd & WSPM & station\\\\\n",
       " <int> & <int> & <int> & <int> & <int> & <dbl> & <dbl> & <dbl> & <dbl> & <int> & <dbl> & <dbl> & <dbl> & <dbl> & <dbl> & <chr> & <dbl> & <chr>\\\\\n",
       "\\hline\n",
       "\t 1 & 2013 & 3 & 1 & 0 & 6 &  6 & 4 &  8 & 300 & 81 & -0.5 & 1024.5 & -21.4 & 0 & NNW & 5.7 & Tiantan\\\\\n",
       "\t 2 & 2013 & 3 & 1 & 1 & 6 & 29 & 5 &  9 & 300 & 80 & -0.7 & 1025.1 & -22.1 & 0 & NW  & 3.9 & Tiantan\\\\\n",
       "\t 3 & 2013 & 3 & 1 & 2 & 6 &  6 & 4 & 12 & 300 & 75 & -1.2 & 1025.3 & -24.6 & 0 & NNW & 5.3 & Tiantan\\\\\n",
       "\t ⋮ & ⋮ & ⋮ & ⋮ & ⋮ & ⋮ & ⋮ & ⋮ & ⋮ & ⋮ & ⋮ & ⋮ & ⋮ & ⋮ & ⋮ & ⋮ & ⋮ & ⋮\\\\\n",
       "\t 35062 & 2017 & 2 & 28 & 21 & 18 & 32 & 4 & 48 & 500 & 48 & 10.8 & 1014.2 & -13.3 & 0 & NW  & 1.1 & Tiantan\\\\\n",
       "\t 35063 & 2017 & 2 & 28 & 22 & 15 & 42 & 5 & 52 & 600 & 44 & 10.5 & 1014.4 & -12.9 & 0 & NNW & 1.2 & Tiantan\\\\\n",
       "\t 35064 & 2017 & 2 & 28 & 23 & 15 & 50 & 5 & 68 & 700 & 21 &  8.6 & 1014.1 & -15.9 & 0 & NNE & 1.3 & Tiantan\\\\\n",
       "\\end{tabular}\n"
      ],
      "text/markdown": [
       "\n",
       "A data.frame: 35064 × 18\n",
       "\n",
       "| No &lt;int&gt; | year &lt;int&gt; | month &lt;int&gt; | day &lt;int&gt; | hour &lt;int&gt; | PM2.5 &lt;dbl&gt; | PM10 &lt;dbl&gt; | SO2 &lt;dbl&gt; | NO2 &lt;dbl&gt; | CO &lt;int&gt; | O3 &lt;dbl&gt; | TEMP &lt;dbl&gt; | PRES &lt;dbl&gt; | DEWP &lt;dbl&gt; | RAIN &lt;dbl&gt; | wd &lt;chr&gt; | WSPM &lt;dbl&gt; | station &lt;chr&gt; |\n",
       "|---|---|---|---|---|---|---|---|---|---|---|---|---|---|---|---|---|---|\n",
       "| 1 | 2013 | 3 | 1 | 0 | 6 |  6 | 4 |  8 | 300 | 81 | -0.5 | 1024.5 | -21.4 | 0 | NNW | 5.7 | Tiantan |\n",
       "| 2 | 2013 | 3 | 1 | 1 | 6 | 29 | 5 |  9 | 300 | 80 | -0.7 | 1025.1 | -22.1 | 0 | NW  | 3.9 | Tiantan |\n",
       "| 3 | 2013 | 3 | 1 | 2 | 6 |  6 | 4 | 12 | 300 | 75 | -1.2 | 1025.3 | -24.6 | 0 | NNW | 5.3 | Tiantan |\n",
       "| ⋮ | ⋮ | ⋮ | ⋮ | ⋮ | ⋮ | ⋮ | ⋮ | ⋮ | ⋮ | ⋮ | ⋮ | ⋮ | ⋮ | ⋮ | ⋮ | ⋮ | ⋮ |\n",
       "| 35062 | 2017 | 2 | 28 | 21 | 18 | 32 | 4 | 48 | 500 | 48 | 10.8 | 1014.2 | -13.3 | 0 | NW  | 1.1 | Tiantan |\n",
       "| 35063 | 2017 | 2 | 28 | 22 | 15 | 42 | 5 | 52 | 600 | 44 | 10.5 | 1014.4 | -12.9 | 0 | NNW | 1.2 | Tiantan |\n",
       "| 35064 | 2017 | 2 | 28 | 23 | 15 | 50 | 5 | 68 | 700 | 21 |  8.6 | 1014.1 | -15.9 | 0 | NNE | 1.3 | Tiantan |\n",
       "\n"
      ],
      "text/plain": [
       "      No    year month day hour PM2.5 PM10 SO2 NO2 CO  O3 TEMP PRES   DEWP \n",
       "1     1     2013 3     1   0    6      6   4    8  300 81 -0.5 1024.5 -21.4\n",
       "2     2     2013 3     1   1    6     29   5    9  300 80 -0.7 1025.1 -22.1\n",
       "3     3     2013 3     1   2    6      6   4   12  300 75 -1.2 1025.3 -24.6\n",
       "⋮     ⋮     ⋮    ⋮     ⋮   ⋮    ⋮     ⋮    ⋮   ⋮   ⋮   ⋮  ⋮    ⋮      ⋮    \n",
       "35062 35062 2017 2     28  21   18    32   4   48  500 48 10.8 1014.2 -13.3\n",
       "35063 35063 2017 2     28  22   15    42   5   52  600 44 10.5 1014.4 -12.9\n",
       "35064 35064 2017 2     28  23   15    50   5   68  700 21  8.6 1014.1 -15.9\n",
       "      RAIN wd  WSPM station\n",
       "1     0    NNW 5.7  Tiantan\n",
       "2     0    NW  3.9  Tiantan\n",
       "3     0    NNW 5.3  Tiantan\n",
       "⋮     ⋮    ⋮   ⋮    ⋮      \n",
       "35062 0    NW  1.1  Tiantan\n",
       "35063 0    NNW 1.2  Tiantan\n",
       "35064 0    NNE 1.3  Tiantan"
      ]
     },
     "metadata": {},
     "output_type": "display_data"
    }
   ],
   "source": [
    "weather_data <- read.csv(\"PRSA_Data_Tiantan_20130301-20170228.csv\")\n",
    "weather_data"
   ]
  },
  {
   "cell_type": "markdown",
   "id": "2e1fefde-0364-4a2d-8cdd-800865a386b3",
   "metadata": {},
   "source": [
    "3. Using only training data, summarize the data in at least one table (this is exploratory data analysis). Here we are planning to only predict CO.\n",
    "4. Using only training data, visualize the data with at least one plot relevant to the analysis you plan to do (this is exploratory data analysis). An example of a useful visualization could be one that compares the distributions of each of the predictor variables you plan to use in your analysis."
   ]
  },
  {
   "cell_type": "code",
   "execution_count": 9,
   "id": "308f39e5-15b2-4d05-9e62-3e0ceb648c34",
   "metadata": {},
   "outputs": [
    {
     "data": {
      "text/html": [
       "<table class=\"dataframe\">\n",
       "<caption>A data.frame: 35064 × 7</caption>\n",
       "<thead>\n",
       "\t<tr><th scope=col>CO</th><th scope=col>Temperature</th><th scope=col>Pressure</th><th scope=col>Dew_Point_Temperature</th><th scope=col>Rain</th><th scope=col>Wind_Speed</th><th scope=col>Region</th></tr>\n",
       "\t<tr><th scope=col>&lt;int&gt;</th><th scope=col>&lt;dbl&gt;</th><th scope=col>&lt;dbl&gt;</th><th scope=col>&lt;dbl&gt;</th><th scope=col>&lt;dbl&gt;</th><th scope=col>&lt;dbl&gt;</th><th scope=col>&lt;chr&gt;</th></tr>\n",
       "</thead>\n",
       "<tbody>\n",
       "\t<tr><td>300</td><td>-0.5</td><td>1024.5</td><td>-21.4</td><td>0</td><td>5.7</td><td>Tiantan</td></tr>\n",
       "\t<tr><td>300</td><td>-0.7</td><td>1025.1</td><td>-22.1</td><td>0</td><td>3.9</td><td>Tiantan</td></tr>\n",
       "\t<tr><td>300</td><td>-1.2</td><td>1025.3</td><td>-24.6</td><td>0</td><td>5.3</td><td>Tiantan</td></tr>\n",
       "\t<tr><td>⋮</td><td>⋮</td><td>⋮</td><td>⋮</td><td>⋮</td><td>⋮</td><td>⋮</td></tr>\n",
       "\t<tr><td>500</td><td>10.8</td><td>1014.2</td><td>-13.3</td><td>0</td><td>1.1</td><td>Tiantan</td></tr>\n",
       "\t<tr><td>600</td><td>10.5</td><td>1014.4</td><td>-12.9</td><td>0</td><td>1.2</td><td>Tiantan</td></tr>\n",
       "\t<tr><td>700</td><td> 8.6</td><td>1014.1</td><td>-15.9</td><td>0</td><td>1.3</td><td>Tiantan</td></tr>\n",
       "</tbody>\n",
       "</table>\n"
      ],
      "text/latex": [
       "A data.frame: 35064 × 7\n",
       "\\begin{tabular}{lllllll}\n",
       " CO & Temperature & Pressure & Dew\\_Point\\_Temperature & Rain & Wind\\_Speed & Region\\\\\n",
       " <int> & <dbl> & <dbl> & <dbl> & <dbl> & <dbl> & <chr>\\\\\n",
       "\\hline\n",
       "\t 300 & -0.5 & 1024.5 & -21.4 & 0 & 5.7 & Tiantan\\\\\n",
       "\t 300 & -0.7 & 1025.1 & -22.1 & 0 & 3.9 & Tiantan\\\\\n",
       "\t 300 & -1.2 & 1025.3 & -24.6 & 0 & 5.3 & Tiantan\\\\\n",
       "\t ⋮ & ⋮ & ⋮ & ⋮ & ⋮ & ⋮ & ⋮\\\\\n",
       "\t 500 & 10.8 & 1014.2 & -13.3 & 0 & 1.1 & Tiantan\\\\\n",
       "\t 600 & 10.5 & 1014.4 & -12.9 & 0 & 1.2 & Tiantan\\\\\n",
       "\t 700 &  8.6 & 1014.1 & -15.9 & 0 & 1.3 & Tiantan\\\\\n",
       "\\end{tabular}\n"
      ],
      "text/markdown": [
       "\n",
       "A data.frame: 35064 × 7\n",
       "\n",
       "| CO &lt;int&gt; | Temperature &lt;dbl&gt; | Pressure &lt;dbl&gt; | Dew_Point_Temperature &lt;dbl&gt; | Rain &lt;dbl&gt; | Wind_Speed &lt;dbl&gt; | Region &lt;chr&gt; |\n",
       "|---|---|---|---|---|---|---|\n",
       "| 300 | -0.5 | 1024.5 | -21.4 | 0 | 5.7 | Tiantan |\n",
       "| 300 | -0.7 | 1025.1 | -22.1 | 0 | 3.9 | Tiantan |\n",
       "| 300 | -1.2 | 1025.3 | -24.6 | 0 | 5.3 | Tiantan |\n",
       "| ⋮ | ⋮ | ⋮ | ⋮ | ⋮ | ⋮ | ⋮ |\n",
       "| 500 | 10.8 | 1014.2 | -13.3 | 0 | 1.1 | Tiantan |\n",
       "| 600 | 10.5 | 1014.4 | -12.9 | 0 | 1.2 | Tiantan |\n",
       "| 700 |  8.6 | 1014.1 | -15.9 | 0 | 1.3 | Tiantan |\n",
       "\n"
      ],
      "text/plain": [
       "      CO  Temperature Pressure Dew_Point_Temperature Rain Wind_Speed Region \n",
       "1     300 -0.5        1024.5   -21.4                 0    5.7        Tiantan\n",
       "2     300 -0.7        1025.1   -22.1                 0    3.9        Tiantan\n",
       "3     300 -1.2        1025.3   -24.6                 0    5.3        Tiantan\n",
       "⋮     ⋮   ⋮           ⋮        ⋮                     ⋮    ⋮          ⋮      \n",
       "35062 500 10.8        1014.2   -13.3                 0    1.1        Tiantan\n",
       "35063 600 10.5        1014.4   -12.9                 0    1.2        Tiantan\n",
       "35064 700  8.6        1014.1   -15.9                 0    1.3        Tiantan"
      ]
     },
     "metadata": {},
     "output_type": "display_data"
    }
   ],
   "source": [
    "tidy_data <- weather_data |>\n",
    "            select(-No , -year, -month, -day, -hour, -PM10, -SO2, -NO2, -O3, -wd, -PM2.5)\n",
    "\n",
    "colnames(tidy_data) <-\n",
    "            c('CO', 'Temperature' , 'Pressure' , 'Dew_Point_Temperature' , 'Rain' , 'Wind_Speed' , 'Region')\n",
    "\n",
    "\n",
    "tidy_data"
   ]
  },
  {
   "cell_type": "code",
   "execution_count": 10,
   "id": "89be771f-1f5e-44c1-936e-10e48d58673d",
   "metadata": {},
   "outputs": [
    {
     "data": {
      "text/plain": [
       "<Training/Testing/Total>\n",
       "<26296/8768/35064>"
      ]
     },
     "metadata": {},
     "output_type": "display_data"
    },
    {
     "data": {
      "text/html": [
       "<table class=\"dataframe\">\n",
       "<caption>A data.frame: 26296 × 7</caption>\n",
       "<thead>\n",
       "\t<tr><th></th><th scope=col>CO</th><th scope=col>Temperature</th><th scope=col>Pressure</th><th scope=col>Dew_Point_Temperature</th><th scope=col>Rain</th><th scope=col>Wind_Speed</th><th scope=col>Region</th></tr>\n",
       "\t<tr><th></th><th scope=col>&lt;int&gt;</th><th scope=col>&lt;dbl&gt;</th><th scope=col>&lt;dbl&gt;</th><th scope=col>&lt;dbl&gt;</th><th scope=col>&lt;dbl&gt;</th><th scope=col>&lt;dbl&gt;</th><th scope=col>&lt;chr&gt;</th></tr>\n",
       "</thead>\n",
       "<tbody>\n",
       "\t<tr><th scope=row>1</th><td>300</td><td>-0.5</td><td>1024.5</td><td>-21.4</td><td>0</td><td>5.7</td><td>Tiantan</td></tr>\n",
       "\t<tr><th scope=row>2</th><td>300</td><td>-0.7</td><td>1025.1</td><td>-22.1</td><td>0</td><td>3.9</td><td>Tiantan</td></tr>\n",
       "\t<tr><th scope=row>3</th><td>300</td><td>-1.2</td><td>1025.3</td><td>-24.6</td><td>0</td><td>5.3</td><td>Tiantan</td></tr>\n",
       "\t<tr><th scope=row>⋮</th><td>⋮</td><td>⋮</td><td>⋮</td><td>⋮</td><td>⋮</td><td>⋮</td><td>⋮</td></tr>\n",
       "\t<tr><th scope=row>35028</th><td>2100</td><td>10.0</td><td>1018.3</td><td> -5.6</td><td>0</td><td>1.4</td><td>Tiantan</td></tr>\n",
       "\t<tr><th scope=row>35029</th><td>2200</td><td>12.1</td><td>1017.3</td><td> -5.4</td><td>0</td><td>1.2</td><td>Tiantan</td></tr>\n",
       "\t<tr><th scope=row>35058</th><td>  NA</td><td>14.2</td><td>1012.5</td><td>-14.9</td><td>0</td><td>3.1</td><td>Tiantan</td></tr>\n",
       "</tbody>\n",
       "</table>\n"
      ],
      "text/latex": [
       "A data.frame: 26296 × 7\n",
       "\\begin{tabular}{r|lllllll}\n",
       "  & CO & Temperature & Pressure & Dew\\_Point\\_Temperature & Rain & Wind\\_Speed & Region\\\\\n",
       "  & <int> & <dbl> & <dbl> & <dbl> & <dbl> & <dbl> & <chr>\\\\\n",
       "\\hline\n",
       "\t1 & 300 & -0.5 & 1024.5 & -21.4 & 0 & 5.7 & Tiantan\\\\\n",
       "\t2 & 300 & -0.7 & 1025.1 & -22.1 & 0 & 3.9 & Tiantan\\\\\n",
       "\t3 & 300 & -1.2 & 1025.3 & -24.6 & 0 & 5.3 & Tiantan\\\\\n",
       "\t⋮ & ⋮ & ⋮ & ⋮ & ⋮ & ⋮ & ⋮ & ⋮\\\\\n",
       "\t35028 & 2100 & 10.0 & 1018.3 &  -5.6 & 0 & 1.4 & Tiantan\\\\\n",
       "\t35029 & 2200 & 12.1 & 1017.3 &  -5.4 & 0 & 1.2 & Tiantan\\\\\n",
       "\t35058 &   NA & 14.2 & 1012.5 & -14.9 & 0 & 3.1 & Tiantan\\\\\n",
       "\\end{tabular}\n"
      ],
      "text/markdown": [
       "\n",
       "A data.frame: 26296 × 7\n",
       "\n",
       "| <!--/--> | CO &lt;int&gt; | Temperature &lt;dbl&gt; | Pressure &lt;dbl&gt; | Dew_Point_Temperature &lt;dbl&gt; | Rain &lt;dbl&gt; | Wind_Speed &lt;dbl&gt; | Region &lt;chr&gt; |\n",
       "|---|---|---|---|---|---|---|---|\n",
       "| 1 | 300 | -0.5 | 1024.5 | -21.4 | 0 | 5.7 | Tiantan |\n",
       "| 2 | 300 | -0.7 | 1025.1 | -22.1 | 0 | 3.9 | Tiantan |\n",
       "| 3 | 300 | -1.2 | 1025.3 | -24.6 | 0 | 5.3 | Tiantan |\n",
       "| ⋮ | ⋮ | ⋮ | ⋮ | ⋮ | ⋮ | ⋮ | ⋮ |\n",
       "| 35028 | 2100 | 10.0 | 1018.3 |  -5.6 | 0 | 1.4 | Tiantan |\n",
       "| 35029 | 2200 | 12.1 | 1017.3 |  -5.4 | 0 | 1.2 | Tiantan |\n",
       "| 35058 |   NA | 14.2 | 1012.5 | -14.9 | 0 | 3.1 | Tiantan |\n",
       "\n"
      ],
      "text/plain": [
       "      CO   Temperature Pressure Dew_Point_Temperature Rain Wind_Speed Region \n",
       "1     300  -0.5        1024.5   -21.4                 0    5.7        Tiantan\n",
       "2     300  -0.7        1025.1   -22.1                 0    3.9        Tiantan\n",
       "3     300  -1.2        1025.3   -24.6                 0    5.3        Tiantan\n",
       "⋮     ⋮    ⋮           ⋮        ⋮                     ⋮    ⋮          ⋮      \n",
       "35028 2100 10.0        1018.3    -5.6                 0    1.4        Tiantan\n",
       "35029 2200 12.1        1017.3    -5.4                 0    1.2        Tiantan\n",
       "35058   NA 14.2        1012.5   -14.9                 0    3.1        Tiantan"
      ]
     },
     "metadata": {},
     "output_type": "display_data"
    },
    {
     "data": {
      "text/html": [
       "<table class=\"dataframe\">\n",
       "<caption>A data.frame: 8768 × 7</caption>\n",
       "<thead>\n",
       "\t<tr><th></th><th scope=col>CO</th><th scope=col>Temperature</th><th scope=col>Pressure</th><th scope=col>Dew_Point_Temperature</th><th scope=col>Rain</th><th scope=col>Wind_Speed</th><th scope=col>Region</th></tr>\n",
       "\t<tr><th></th><th scope=col>&lt;int&gt;</th><th scope=col>&lt;dbl&gt;</th><th scope=col>&lt;dbl&gt;</th><th scope=col>&lt;dbl&gt;</th><th scope=col>&lt;dbl&gt;</th><th scope=col>&lt;dbl&gt;</th><th scope=col>&lt;chr&gt;</th></tr>\n",
       "</thead>\n",
       "<tbody>\n",
       "\t<tr><th scope=row>4</th><td>300</td><td>-1.4</td><td>1026.2</td><td>-25.5</td><td>0</td><td>4.9</td><td>Tiantan</td></tr>\n",
       "\t<tr><th scope=row>5</th><td>400</td><td>-1.9</td><td>1027.1</td><td>-24.5</td><td>0</td><td>3.2</td><td>Tiantan</td></tr>\n",
       "\t<tr><th scope=row>10</th><td>500</td><td> 0.4</td><td>1030.5</td><td>-23.3</td><td>0</td><td>5.5</td><td>Tiantan</td></tr>\n",
       "\t<tr><th scope=row>⋮</th><td>⋮</td><td>⋮</td><td>⋮</td><td>⋮</td><td>⋮</td><td>⋮</td><td>⋮</td></tr>\n",
       "\t<tr><th scope=row>35052</th><td>400</td><td>13.3</td><td>1016.0</td><td>-12.8</td><td>0</td><td>3.3</td><td>Tiantan</td></tr>\n",
       "\t<tr><th scope=row>35053</th><td>300</td><td>12.9</td><td>1015.4</td><td>-14.9</td><td>0</td><td>3.3</td><td>Tiantan</td></tr>\n",
       "\t<tr><th scope=row>35060</th><td>500</td><td>12.5</td><td>1013.5</td><td>-16.2</td><td>0</td><td>2.4</td><td>Tiantan</td></tr>\n",
       "</tbody>\n",
       "</table>\n"
      ],
      "text/latex": [
       "A data.frame: 8768 × 7\n",
       "\\begin{tabular}{r|lllllll}\n",
       "  & CO & Temperature & Pressure & Dew\\_Point\\_Temperature & Rain & Wind\\_Speed & Region\\\\\n",
       "  & <int> & <dbl> & <dbl> & <dbl> & <dbl> & <dbl> & <chr>\\\\\n",
       "\\hline\n",
       "\t4 & 300 & -1.4 & 1026.2 & -25.5 & 0 & 4.9 & Tiantan\\\\\n",
       "\t5 & 400 & -1.9 & 1027.1 & -24.5 & 0 & 3.2 & Tiantan\\\\\n",
       "\t10 & 500 &  0.4 & 1030.5 & -23.3 & 0 & 5.5 & Tiantan\\\\\n",
       "\t⋮ & ⋮ & ⋮ & ⋮ & ⋮ & ⋮ & ⋮ & ⋮\\\\\n",
       "\t35052 & 400 & 13.3 & 1016.0 & -12.8 & 0 & 3.3 & Tiantan\\\\\n",
       "\t35053 & 300 & 12.9 & 1015.4 & -14.9 & 0 & 3.3 & Tiantan\\\\\n",
       "\t35060 & 500 & 12.5 & 1013.5 & -16.2 & 0 & 2.4 & Tiantan\\\\\n",
       "\\end{tabular}\n"
      ],
      "text/markdown": [
       "\n",
       "A data.frame: 8768 × 7\n",
       "\n",
       "| <!--/--> | CO &lt;int&gt; | Temperature &lt;dbl&gt; | Pressure &lt;dbl&gt; | Dew_Point_Temperature &lt;dbl&gt; | Rain &lt;dbl&gt; | Wind_Speed &lt;dbl&gt; | Region &lt;chr&gt; |\n",
       "|---|---|---|---|---|---|---|---|\n",
       "| 4 | 300 | -1.4 | 1026.2 | -25.5 | 0 | 4.9 | Tiantan |\n",
       "| 5 | 400 | -1.9 | 1027.1 | -24.5 | 0 | 3.2 | Tiantan |\n",
       "| 10 | 500 |  0.4 | 1030.5 | -23.3 | 0 | 5.5 | Tiantan |\n",
       "| ⋮ | ⋮ | ⋮ | ⋮ | ⋮ | ⋮ | ⋮ | ⋮ |\n",
       "| 35052 | 400 | 13.3 | 1016.0 | -12.8 | 0 | 3.3 | Tiantan |\n",
       "| 35053 | 300 | 12.9 | 1015.4 | -14.9 | 0 | 3.3 | Tiantan |\n",
       "| 35060 | 500 | 12.5 | 1013.5 | -16.2 | 0 | 2.4 | Tiantan |\n",
       "\n"
      ],
      "text/plain": [
       "      CO  Temperature Pressure Dew_Point_Temperature Rain Wind_Speed Region \n",
       "4     300 -1.4        1026.2   -25.5                 0    4.9        Tiantan\n",
       "5     400 -1.9        1027.1   -24.5                 0    3.2        Tiantan\n",
       "10    500  0.4        1030.5   -23.3                 0    5.5        Tiantan\n",
       "⋮     ⋮   ⋮           ⋮        ⋮                     ⋮    ⋮          ⋮      \n",
       "35052 400 13.3        1016.0   -12.8                 0    3.3        Tiantan\n",
       "35053 300 12.9        1015.4   -14.9                 0    3.3        Tiantan\n",
       "35060 500 12.5        1013.5   -16.2                 0    2.4        Tiantan"
      ]
     },
     "metadata": {},
     "output_type": "display_data"
    }
   ],
   "source": [
    "set.seed(2000) ### DO NOT CHANGE\n",
    "\n",
    "weather_split <- initial_split(tidy_data, prop = 0.75, strata = CO)\n",
    "weather_training <- training(weather_split)\n",
    "weather_testing <- testing(weather_split)\n",
    "\n",
    "\n",
    "weather_split\n",
    "weather_training\n",
    "weather_testing"
   ]
  },
  {
   "cell_type": "code",
   "execution_count": 13,
   "id": "7c5881fd-a2be-433f-b420-f3ed8899934c",
   "metadata": {},
   "outputs": [
    {
     "data": {
      "text/plain": [
       "K-Nearest Neighbor Model Specification (regression)\n",
       "\n",
       "Main Arguments:\n",
       "  neighbors = tune()\n",
       "  weight_func = rectangular\n",
       "\n",
       "Computational engine: kknn \n"
      ]
     },
     "metadata": {},
     "output_type": "display_data"
    },
    {
     "data": {
      "text/plain": [
       "Recipe\n",
       "\n",
       "Inputs:\n",
       "\n",
       "      role #variables\n",
       "   outcome          1\n",
       " predictor          6\n",
       "\n",
       "Operations:\n",
       "\n",
       "Scaling for all_predictors()\n",
       "Centering for all_predictors()"
      ]
     },
     "metadata": {},
     "output_type": "display_data"
    }
   ],
   "source": [
    "weather_spec <- nearest_neighbor(weight_func = \"rectangular\", neighbors = tune()) |> \n",
    "                set_engine(\"kknn\") |>\n",
    "                set_mode(\"regression\") \n",
    "\n",
    "weather_recipe <- recipe(CO ~. , data = weather_training) |>\n",
    "                step_scale(all_predictors()) |>\n",
    "                step_center(all_predictors())\n",
    "weather_spec\n",
    "weather_recipe"
   ]
  },
  {
   "cell_type": "code",
   "execution_count": 14,
   "id": "a27604de-afaf-4545-ab59-745933a6d7a1",
   "metadata": {},
   "outputs": [
    {
     "data": {
      "text/plain": [
       "══ Workflow ════════════════════════════════════════════════════════════════════\n",
       "\u001b[3mPreprocessor:\u001b[23m Recipe\n",
       "\u001b[3mModel:\u001b[23m nearest_neighbor()\n",
       "\n",
       "── Preprocessor ────────────────────────────────────────────────────────────────\n",
       "2 Recipe Steps\n",
       "\n",
       "• step_scale()\n",
       "• step_center()\n",
       "\n",
       "── Model ───────────────────────────────────────────────────────────────────────\n",
       "K-Nearest Neighbor Model Specification (regression)\n",
       "\n",
       "Main Arguments:\n",
       "  neighbors = tune()\n",
       "  weight_func = rectangular\n",
       "\n",
       "Computational engine: kknn \n"
      ]
     },
     "metadata": {},
     "output_type": "display_data"
    }
   ],
   "source": [
    "set.seed(1234) # DO NOT REMOVE\n",
    "\n",
    "weather_vfold <- vfold_cv(weather_training, v = 5, strata = CO)\n",
    "\n",
    "weather_workflow <- workflow() |>\n",
    "                    add_recipe(weather_recipe) |>\n",
    "                    add_model(weather_spec)\n",
    "weather_workflow"
   ]
  },
  {
   "cell_type": "markdown",
   "id": "d4fb0ea3-e337-4fcd-bfee-36fc8c562c1e",
   "metadata": {
    "tags": []
   },
   "source": [
    "## Methods\n",
    "We will conduct our data analysis with variables used for the data set :\n",
    "\n",
    "1. Objects for Regression: \n",
    "- PM 2.5 \n",
    "- CO\n",
    " \n",
    "2. Predictors: \n",
    "- Temperature (TEMP) \n",
    "- Pressure (PRES) \n",
    "- Dew Point Temperature (DEWP) \n",
    "- Rain (RAIN) \n",
    "- Wind Speed (WSPM)\n",
    "\n",
    "3. Variables NOT included within the analysis and why : \n",
    "- Wind Direction (wd) is categorical therefore is not integrated with the plot. \n",
    "- Seasonal weather may influence the prediction, however this is not our topic of study. Therefore all time variables such as year, month, day, hour are dropped to prevent interference with our regression plot.\n",
    "- We normalize our data to make sure that certain variables with large absolute quantities such as CO do not receive undue weight."
   ]
  },
  {
   "cell_type": "markdown",
   "id": "d4052fdf-47f5-49bf-9da3-3bee94554ba1",
   "metadata": {},
   "source": [
    "We will then perform a KNN regression on the data and analyze the strength of the effect that weather has on the concentration of pollutants and we will visualize the results will be through a regression plot on pollutants such as PM 2.5 and CO. We will then create separate regression plots for each predictor in relation to our pollutant. "
   ]
  },
  {
   "cell_type": "code",
   "execution_count": 4,
   "id": "8ee1cc39-d424-4e4b-9d9f-3d488e2089a9",
   "metadata": {},
   "outputs": [],
   "source": [
    "#knn regression"
   ]
  },
  {
   "cell_type": "markdown",
   "id": "de883139-1424-455c-91ae-691f23862452",
   "metadata": {},
   "source": [
    "## Expected outcomes and significance:\n",
    "\n",
    "1. What do you expect to find?\n",
    "We expect to find a correlation between certain meteorological conditions and the quantity of certain air pollutants, while also finding differences between the manner in which different types of air pollutants react to different conditions. For example, gaseous pollutants may not be affected as much by precipitation as particulate matter, while gaseous pollutants may be more affected by wind speed.\n",
    "\n",
    "2. What impact could such findings have?\n",
    "Discovering the relationship between air pollutants and weather conditions may provide insight into methods of mitigating the effects of air pollution. This can help to advance active pollution reduction technologies such as carbon capture or discovering better methods of reducing the penetration of PM 2.5 into households. Since we can tentatively predict the weather, we may be able to use meteorology combined with behavioral techniques to reduce air pollution such as by using green energy during periods of low wind speed.\n",
    "\n",
    "3. What future questions could this lead to?\n",
    "- Is the air pollution temporarily reduced or permanently removed from the air through weather events?\n",
    "Certain pollutants such as PM 2.5 may be integrated into the environment such as how smoke is washed into the soil and turned into ash. Other pollutants such as CO may simply evaporate back into the environment when the temperature changes.\n",
    "\n",
    "- Does the pollution from air pollution become integrated into the environment through other means such as water pollution?\n",
    "Certain types of toxic pollutants may be washed into the water supply, such as meteorological conditions such as acid rain.\n",
    "\n",
    "- How might meteorological conditions be stimulated or controlled to reduce air pollution in cities?\n",
    "Techniques such as rain cloud seeding may be available to reduce the concentration of pollutants during high concentration of pollutants.\n",
    "\n"
   ]
  },
  {
   "cell_type": "code",
   "execution_count": null,
   "id": "ab935d52-be67-4343-abbe-18ee8f2319a3",
   "metadata": {},
   "outputs": [],
   "source": []
  }
 ],
 "metadata": {
  "kernelspec": {
   "display_name": "R",
   "language": "R",
   "name": "ir"
  },
  "language_info": {
   "codemirror_mode": "r",
   "file_extension": ".r",
   "mimetype": "text/x-r-source",
   "name": "R",
   "pygments_lexer": "r",
   "version": "4.1.3"
  }
 },
 "nbformat": 4,
 "nbformat_minor": 5
}
