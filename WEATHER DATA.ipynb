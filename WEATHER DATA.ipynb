{
 "cells": [
  {
   "cell_type": "markdown",
   "id": "e71e2f2c-1a56-4c35-87a2-3b1617f53179",
   "metadata": {},
   "source": [
    "## **PROPOSAL FOR AIR POLLUTION REGRESSION ANALYSIS**"
   ]
  },
  {
   "cell_type": "markdown",
   "id": "516bdbe1-1de0-4816-8df2-c4f3482b5746",
   "metadata": {
    "tags": []
   },
   "source": [
    "## Introduction\n",
    "\n",
    "Air pollution is affected by the weather due to the moisture and the precipitation affecting the concentration of pollutants through factors like humidity, temperature, and particulate matter. \n",
    "\n",
    "We’re choosing the air pollutant CO and air particles PM 2.5 because both variables frequently emerge in regards to the air pollution in Beijing, specifically the region Tiantan because of the large population of tourists and locals. We can predict the air condition in the region and the impact it has on the community and how we can further improve it. We want to predict CO and PM 2.5 based on the weather which is decided by 5 variables (the temperature (C°), pressure (hPa), dew point temperature (C°), precipitation (mm), wind speed (m/s)). Questions for this regression analysis includes :\n",
    " \n",
    "1. How does the weather affect the concentration of air particle PM 2.5?\n",
    "2. How does the weather affect the concentration of gas pollutant CO?\n",
    "\n",
    "The dataset consists of hourly concentration of air pollutants and meteorological variables from 12 air-monitoring stations in Beijing between March 1, 2013 and February 28, 2017. "
   ]
  },
  {
   "cell_type": "markdown",
   "id": "1736e381-c697-4d0e-bc9a-c236e759538f",
   "metadata": {},
   "source": [
    "## Preliminary Exploratory Data Analysis"
   ]
  },
  {
   "cell_type": "code",
   "execution_count": 1,
   "id": "e0841b68-9ae8-4b29-a8de-8c6b5cad7648",
   "metadata": {},
   "outputs": [
    {
     "name": "stderr",
     "output_type": "stream",
     "text": [
      "── \u001b[1mAttaching packages\u001b[22m ─────────────────────────────────────── tidyverse 1.3.1 ──\n",
      "\n",
      "\u001b[32m✔\u001b[39m \u001b[34mggplot2\u001b[39m 3.3.6     \u001b[32m✔\u001b[39m \u001b[34mpurrr  \u001b[39m 0.3.4\n",
      "\u001b[32m✔\u001b[39m \u001b[34mtibble \u001b[39m 3.1.7     \u001b[32m✔\u001b[39m \u001b[34mdplyr  \u001b[39m 1.0.9\n",
      "\u001b[32m✔\u001b[39m \u001b[34mtidyr  \u001b[39m 1.2.0     \u001b[32m✔\u001b[39m \u001b[34mstringr\u001b[39m 1.4.0\n",
      "\u001b[32m✔\u001b[39m \u001b[34mreadr  \u001b[39m 2.1.2     \u001b[32m✔\u001b[39m \u001b[34mforcats\u001b[39m 0.5.1\n",
      "\n",
      "── \u001b[1mConflicts\u001b[22m ────────────────────────────────────────── tidyverse_conflicts() ──\n",
      "\u001b[31m✖\u001b[39m \u001b[34mdplyr\u001b[39m::\u001b[32mfilter()\u001b[39m masks \u001b[34mstats\u001b[39m::filter()\n",
      "\u001b[31m✖\u001b[39m \u001b[34mdplyr\u001b[39m::\u001b[32mlag()\u001b[39m    masks \u001b[34mstats\u001b[39m::lag()\n",
      "\n",
      "\n",
      "Attaching package: ‘testthat’\n",
      "\n",
      "\n",
      "The following object is masked from ‘package:dplyr’:\n",
      "\n",
      "    matches\n",
      "\n",
      "\n",
      "The following object is masked from ‘package:purrr’:\n",
      "\n",
      "    is_null\n",
      "\n",
      "\n",
      "The following objects are masked from ‘package:readr’:\n",
      "\n",
      "    edition_get, local_edition\n",
      "\n",
      "\n",
      "The following object is masked from ‘package:tidyr’:\n",
      "\n",
      "    matches\n",
      "\n",
      "\n",
      "── \u001b[1mAttaching packages\u001b[22m ────────────────────────────────────── tidymodels 1.0.0 ──\n",
      "\n",
      "\u001b[32m✔\u001b[39m \u001b[34mbroom       \u001b[39m 1.0.0     \u001b[32m✔\u001b[39m \u001b[34mrsample     \u001b[39m 1.0.0\n",
      "\u001b[32m✔\u001b[39m \u001b[34mdials       \u001b[39m 1.0.0     \u001b[32m✔\u001b[39m \u001b[34mtune        \u001b[39m 1.0.0\n",
      "\u001b[32m✔\u001b[39m \u001b[34minfer       \u001b[39m 1.0.2     \u001b[32m✔\u001b[39m \u001b[34mworkflows   \u001b[39m 1.0.0\n",
      "\u001b[32m✔\u001b[39m \u001b[34mmodeldata   \u001b[39m 1.0.0     \u001b[32m✔\u001b[39m \u001b[34mworkflowsets\u001b[39m 1.0.0\n",
      "\u001b[32m✔\u001b[39m \u001b[34mparsnip     \u001b[39m 1.0.0     \u001b[32m✔\u001b[39m \u001b[34myardstick   \u001b[39m 1.0.0\n",
      "\u001b[32m✔\u001b[39m \u001b[34mrecipes     \u001b[39m 1.0.1     \n",
      "\n",
      "── \u001b[1mConflicts\u001b[22m ───────────────────────────────────────── tidymodels_conflicts() ──\n",
      "\u001b[31m✖\u001b[39m \u001b[34mscales\u001b[39m::\u001b[32mdiscard()\u001b[39m   masks \u001b[34mpurrr\u001b[39m::discard()\n",
      "\u001b[31m✖\u001b[39m \u001b[34mdplyr\u001b[39m::\u001b[32mfilter()\u001b[39m     masks \u001b[34mstats\u001b[39m::filter()\n",
      "\u001b[31m✖\u001b[39m \u001b[34mrecipes\u001b[39m::\u001b[32mfixed()\u001b[39m    masks \u001b[34mstringr\u001b[39m::fixed()\n",
      "\u001b[31m✖\u001b[39m \u001b[34mtestthat\u001b[39m::\u001b[32mis_null()\u001b[39m masks \u001b[34mpurrr\u001b[39m::is_null()\n",
      "\u001b[31m✖\u001b[39m \u001b[34mdplyr\u001b[39m::\u001b[32mlag()\u001b[39m        masks \u001b[34mstats\u001b[39m::lag()\n",
      "\u001b[31m✖\u001b[39m \u001b[34mrsample\u001b[39m::\u001b[32mmatches()\u001b[39m  masks \u001b[34mtestthat\u001b[39m::matches(), \u001b[34mdplyr\u001b[39m::matches(), \u001b[34mtidyr\u001b[39m::matches()\n",
      "\u001b[31m✖\u001b[39m \u001b[34myardstick\u001b[39m::\u001b[32mspec()\u001b[39m   masks \u001b[34mreadr\u001b[39m::spec()\n",
      "\u001b[31m✖\u001b[39m \u001b[34mrecipes\u001b[39m::\u001b[32mstep()\u001b[39m     masks \u001b[34mstats\u001b[39m::step()\n",
      "\u001b[34m•\u001b[39m Learn how to get started at \u001b[32mhttps://www.tidymodels.org/start/\u001b[39m\n",
      "\n"
     ]
    }
   ],
   "source": [
    "library(tidyverse)\n",
    "library(repr)\n",
    "options(repr.matrix.max.rows = 6)\n",
    "library(testthat)\n",
    "library(digest)\n",
    "library(tidymodels)"
   ]
  },
  {
   "cell_type": "markdown",
   "id": "a6206786-f5b1-4197-aaad-44a226b3dcec",
   "metadata": {},
   "source": [
    "## Weather Data Set in Tiantan "
   ]
  },
  {
   "cell_type": "code",
   "execution_count": 2,
   "id": "ef139dc9-912c-4266-85d8-8fc8d905455b",
   "metadata": {},
   "outputs": [
    {
     "data": {
      "text/html": [
       "<table class=\"dataframe\">\n",
       "<caption>A data.frame: 35064 × 18</caption>\n",
       "<thead>\n",
       "\t<tr><th scope=col>No</th><th scope=col>year</th><th scope=col>month</th><th scope=col>day</th><th scope=col>hour</th><th scope=col>PM2.5</th><th scope=col>PM10</th><th scope=col>SO2</th><th scope=col>NO2</th><th scope=col>CO</th><th scope=col>O3</th><th scope=col>TEMP</th><th scope=col>PRES</th><th scope=col>DEWP</th><th scope=col>RAIN</th><th scope=col>wd</th><th scope=col>WSPM</th><th scope=col>station</th></tr>\n",
       "\t<tr><th scope=col>&lt;int&gt;</th><th scope=col>&lt;int&gt;</th><th scope=col>&lt;int&gt;</th><th scope=col>&lt;int&gt;</th><th scope=col>&lt;int&gt;</th><th scope=col>&lt;dbl&gt;</th><th scope=col>&lt;dbl&gt;</th><th scope=col>&lt;dbl&gt;</th><th scope=col>&lt;dbl&gt;</th><th scope=col>&lt;int&gt;</th><th scope=col>&lt;dbl&gt;</th><th scope=col>&lt;dbl&gt;</th><th scope=col>&lt;dbl&gt;</th><th scope=col>&lt;dbl&gt;</th><th scope=col>&lt;dbl&gt;</th><th scope=col>&lt;chr&gt;</th><th scope=col>&lt;dbl&gt;</th><th scope=col>&lt;chr&gt;</th></tr>\n",
       "</thead>\n",
       "<tbody>\n",
       "\t<tr><td>1</td><td>2013</td><td>3</td><td>1</td><td>0</td><td>6</td><td> 6</td><td>4</td><td> 8</td><td>300</td><td>81</td><td>-0.5</td><td>1024.5</td><td>-21.4</td><td>0</td><td>NNW</td><td>5.7</td><td>Tiantan</td></tr>\n",
       "\t<tr><td>2</td><td>2013</td><td>3</td><td>1</td><td>1</td><td>6</td><td>29</td><td>5</td><td> 9</td><td>300</td><td>80</td><td>-0.7</td><td>1025.1</td><td>-22.1</td><td>0</td><td>NW </td><td>3.9</td><td>Tiantan</td></tr>\n",
       "\t<tr><td>3</td><td>2013</td><td>3</td><td>1</td><td>2</td><td>6</td><td> 6</td><td>4</td><td>12</td><td>300</td><td>75</td><td>-1.2</td><td>1025.3</td><td>-24.6</td><td>0</td><td>NNW</td><td>5.3</td><td>Tiantan</td></tr>\n",
       "\t<tr><td>⋮</td><td>⋮</td><td>⋮</td><td>⋮</td><td>⋮</td><td>⋮</td><td>⋮</td><td>⋮</td><td>⋮</td><td>⋮</td><td>⋮</td><td>⋮</td><td>⋮</td><td>⋮</td><td>⋮</td><td>⋮</td><td>⋮</td><td>⋮</td></tr>\n",
       "\t<tr><td>35062</td><td>2017</td><td>2</td><td>28</td><td>21</td><td>18</td><td>32</td><td>4</td><td>48</td><td>500</td><td>48</td><td>10.8</td><td>1014.2</td><td>-13.3</td><td>0</td><td>NW </td><td>1.1</td><td>Tiantan</td></tr>\n",
       "\t<tr><td>35063</td><td>2017</td><td>2</td><td>28</td><td>22</td><td>15</td><td>42</td><td>5</td><td>52</td><td>600</td><td>44</td><td>10.5</td><td>1014.4</td><td>-12.9</td><td>0</td><td>NNW</td><td>1.2</td><td>Tiantan</td></tr>\n",
       "\t<tr><td>35064</td><td>2017</td><td>2</td><td>28</td><td>23</td><td>15</td><td>50</td><td>5</td><td>68</td><td>700</td><td>21</td><td> 8.6</td><td>1014.1</td><td>-15.9</td><td>0</td><td>NNE</td><td>1.3</td><td>Tiantan</td></tr>\n",
       "</tbody>\n",
       "</table>\n"
      ],
      "text/latex": [
       "A data.frame: 35064 × 18\n",
       "\\begin{tabular}{llllllllllllllllll}\n",
       " No & year & month & day & hour & PM2.5 & PM10 & SO2 & NO2 & CO & O3 & TEMP & PRES & DEWP & RAIN & wd & WSPM & station\\\\\n",
       " <int> & <int> & <int> & <int> & <int> & <dbl> & <dbl> & <dbl> & <dbl> & <int> & <dbl> & <dbl> & <dbl> & <dbl> & <dbl> & <chr> & <dbl> & <chr>\\\\\n",
       "\\hline\n",
       "\t 1 & 2013 & 3 & 1 & 0 & 6 &  6 & 4 &  8 & 300 & 81 & -0.5 & 1024.5 & -21.4 & 0 & NNW & 5.7 & Tiantan\\\\\n",
       "\t 2 & 2013 & 3 & 1 & 1 & 6 & 29 & 5 &  9 & 300 & 80 & -0.7 & 1025.1 & -22.1 & 0 & NW  & 3.9 & Tiantan\\\\\n",
       "\t 3 & 2013 & 3 & 1 & 2 & 6 &  6 & 4 & 12 & 300 & 75 & -1.2 & 1025.3 & -24.6 & 0 & NNW & 5.3 & Tiantan\\\\\n",
       "\t ⋮ & ⋮ & ⋮ & ⋮ & ⋮ & ⋮ & ⋮ & ⋮ & ⋮ & ⋮ & ⋮ & ⋮ & ⋮ & ⋮ & ⋮ & ⋮ & ⋮ & ⋮\\\\\n",
       "\t 35062 & 2017 & 2 & 28 & 21 & 18 & 32 & 4 & 48 & 500 & 48 & 10.8 & 1014.2 & -13.3 & 0 & NW  & 1.1 & Tiantan\\\\\n",
       "\t 35063 & 2017 & 2 & 28 & 22 & 15 & 42 & 5 & 52 & 600 & 44 & 10.5 & 1014.4 & -12.9 & 0 & NNW & 1.2 & Tiantan\\\\\n",
       "\t 35064 & 2017 & 2 & 28 & 23 & 15 & 50 & 5 & 68 & 700 & 21 &  8.6 & 1014.1 & -15.9 & 0 & NNE & 1.3 & Tiantan\\\\\n",
       "\\end{tabular}\n"
      ],
      "text/markdown": [
       "\n",
       "A data.frame: 35064 × 18\n",
       "\n",
       "| No &lt;int&gt; | year &lt;int&gt; | month &lt;int&gt; | day &lt;int&gt; | hour &lt;int&gt; | PM2.5 &lt;dbl&gt; | PM10 &lt;dbl&gt; | SO2 &lt;dbl&gt; | NO2 &lt;dbl&gt; | CO &lt;int&gt; | O3 &lt;dbl&gt; | TEMP &lt;dbl&gt; | PRES &lt;dbl&gt; | DEWP &lt;dbl&gt; | RAIN &lt;dbl&gt; | wd &lt;chr&gt; | WSPM &lt;dbl&gt; | station &lt;chr&gt; |\n",
       "|---|---|---|---|---|---|---|---|---|---|---|---|---|---|---|---|---|---|\n",
       "| 1 | 2013 | 3 | 1 | 0 | 6 |  6 | 4 |  8 | 300 | 81 | -0.5 | 1024.5 | -21.4 | 0 | NNW | 5.7 | Tiantan |\n",
       "| 2 | 2013 | 3 | 1 | 1 | 6 | 29 | 5 |  9 | 300 | 80 | -0.7 | 1025.1 | -22.1 | 0 | NW  | 3.9 | Tiantan |\n",
       "| 3 | 2013 | 3 | 1 | 2 | 6 |  6 | 4 | 12 | 300 | 75 | -1.2 | 1025.3 | -24.6 | 0 | NNW | 5.3 | Tiantan |\n",
       "| ⋮ | ⋮ | ⋮ | ⋮ | ⋮ | ⋮ | ⋮ | ⋮ | ⋮ | ⋮ | ⋮ | ⋮ | ⋮ | ⋮ | ⋮ | ⋮ | ⋮ | ⋮ |\n",
       "| 35062 | 2017 | 2 | 28 | 21 | 18 | 32 | 4 | 48 | 500 | 48 | 10.8 | 1014.2 | -13.3 | 0 | NW  | 1.1 | Tiantan |\n",
       "| 35063 | 2017 | 2 | 28 | 22 | 15 | 42 | 5 | 52 | 600 | 44 | 10.5 | 1014.4 | -12.9 | 0 | NNW | 1.2 | Tiantan |\n",
       "| 35064 | 2017 | 2 | 28 | 23 | 15 | 50 | 5 | 68 | 700 | 21 |  8.6 | 1014.1 | -15.9 | 0 | NNE | 1.3 | Tiantan |\n",
       "\n"
      ],
      "text/plain": [
       "      No    year month day hour PM2.5 PM10 SO2 NO2 CO  O3 TEMP PRES   DEWP \n",
       "1     1     2013 3     1   0    6      6   4    8  300 81 -0.5 1024.5 -21.4\n",
       "2     2     2013 3     1   1    6     29   5    9  300 80 -0.7 1025.1 -22.1\n",
       "3     3     2013 3     1   2    6      6   4   12  300 75 -1.2 1025.3 -24.6\n",
       "⋮     ⋮     ⋮    ⋮     ⋮   ⋮    ⋮     ⋮    ⋮   ⋮   ⋮   ⋮  ⋮    ⋮      ⋮    \n",
       "35062 35062 2017 2     28  21   18    32   4   48  500 48 10.8 1014.2 -13.3\n",
       "35063 35063 2017 2     28  22   15    42   5   52  600 44 10.5 1014.4 -12.9\n",
       "35064 35064 2017 2     28  23   15    50   5   68  700 21  8.6 1014.1 -15.9\n",
       "      RAIN wd  WSPM station\n",
       "1     0    NNW 5.7  Tiantan\n",
       "2     0    NW  3.9  Tiantan\n",
       "3     0    NNW 5.3  Tiantan\n",
       "⋮     ⋮    ⋮   ⋮    ⋮      \n",
       "35062 0    NW  1.1  Tiantan\n",
       "35063 0    NNW 1.2  Tiantan\n",
       "35064 0    NNE 1.3  Tiantan"
      ]
     },
     "metadata": {},
     "output_type": "display_data"
    }
   ],
   "source": [
    "weather_data <- read.csv(\"PRSA_Data_Tiantan_20130301-20170228.csv\")\n",
    "weather_data"
   ]
  },
  {
   "cell_type": "markdown",
   "id": "a91e02de-0ab4-4ddf-9722-d8ba9df8a0fe",
   "metadata": {},
   "source": [
    "### Summary Statistics"
   ]
  },
  {
   "cell_type": "code",
   "execution_count": 3,
   "id": "82aa4072-cd46-492f-a1cc-4a5e336f1615",
   "metadata": {},
   "outputs": [
    {
     "data": {
      "text/html": [
       "<table class=\"dataframe\">\n",
       "<caption>A data.frame: 5 × 4</caption>\n",
       "<thead>\n",
       "\t<tr><th scope=col>Predictors</th><th scope=col>Mean</th><th scope=col>Standard_Deviation</th><th scope=col>NA_Count</th></tr>\n",
       "\t<tr><th scope=col>&lt;chr&gt;</th><th scope=col>&lt;dbl&gt;</th><th scope=col>&lt;dbl&gt;</th><th scope=col>&lt;int&gt;</th></tr>\n",
       "</thead>\n",
       "<tbody>\n",
       "\t<tr><td>TEMP</td><td>1.367149e+01</td><td>11.458418</td><td>20</td></tr>\n",
       "\t<tr><td>PRES</td><td>1.012547e+03</td><td>10.266059</td><td>20</td></tr>\n",
       "\t<tr><td>DEWP</td><td>2.447535e+00</td><td>13.810696</td><td>20</td></tr>\n",
       "\t<tr><td>RAIN</td><td>6.401952e-02</td><td> 0.786282</td><td>20</td></tr>\n",
       "\t<tr><td>WSPM</td><td>1.860785e+00</td><td> 1.280368</td><td>14</td></tr>\n",
       "</tbody>\n",
       "</table>\n"
      ],
      "text/latex": [
       "A data.frame: 5 × 4\n",
       "\\begin{tabular}{llll}\n",
       " Predictors & Mean & Standard\\_Deviation & NA\\_Count\\\\\n",
       " <chr> & <dbl> & <dbl> & <int>\\\\\n",
       "\\hline\n",
       "\t TEMP & 1.367149e+01 & 11.458418 & 20\\\\\n",
       "\t PRES & 1.012547e+03 & 10.266059 & 20\\\\\n",
       "\t DEWP & 2.447535e+00 & 13.810696 & 20\\\\\n",
       "\t RAIN & 6.401952e-02 &  0.786282 & 20\\\\\n",
       "\t WSPM & 1.860785e+00 &  1.280368 & 14\\\\\n",
       "\\end{tabular}\n"
      ],
      "text/markdown": [
       "\n",
       "A data.frame: 5 × 4\n",
       "\n",
       "| Predictors &lt;chr&gt; | Mean &lt;dbl&gt; | Standard_Deviation &lt;dbl&gt; | NA_Count &lt;int&gt; |\n",
       "|---|---|---|---|\n",
       "| TEMP | 1.367149e+01 | 11.458418 | 20 |\n",
       "| PRES | 1.012547e+03 | 10.266059 | 20 |\n",
       "| DEWP | 2.447535e+00 | 13.810696 | 20 |\n",
       "| RAIN | 6.401952e-02 |  0.786282 | 20 |\n",
       "| WSPM | 1.860785e+00 |  1.280368 | 14 |\n",
       "\n"
      ],
      "text/plain": [
       "  Predictors Mean         Standard_Deviation NA_Count\n",
       "1 TEMP       1.367149e+01 11.458418          20      \n",
       "2 PRES       1.012547e+03 10.266059          20      \n",
       "3 DEWP       2.447535e+00 13.810696          20      \n",
       "4 RAIN       6.401952e-02  0.786282          20      \n",
       "5 WSPM       1.860785e+00  1.280368          14      "
      ]
     },
     "metadata": {},
     "output_type": "display_data"
    }
   ],
   "source": [
    "weather_predictors <- weather_data |> select('TEMP', 'PRES', 'DEWP', 'RAIN', 'WSPM') |>\n",
    "map_dfr(mean, na.rm = TRUE) |> pivot_longer(cols = TEMP:WSPM, names_to = \"Predictors\", values_to = \"Mean\")\n",
    "\n",
    "Standard_Deviation <- weather_data |> select('TEMP', 'PRES', 'DEWP', 'RAIN', 'WSPM') |>\n",
    "map_dfr(sd, na.rm = TRUE) |> pivot_longer(cols = TEMP:WSPM, names_to = \"Predictors\", values_to = \"Standard Deviation\") |> pull(2)\n",
    "\n",
    "NA_Count <- weather_data |> select('TEMP', 'PRES', 'DEWP', 'RAIN', 'WSPM') |> \n",
    "map_dfr(~sum(is.na(.))) |> pivot_longer(cols = TEMP:WSPM, names_to = \"Predictors\", values_to = \"NA Count\") |> pull(2)\n",
    "\n",
    "summary_statistics <- data.frame(weather_predictors, Standard_Deviation, NA_Count)\n",
    "summary_statistics\n"
   ]
  },
  {
   "cell_type": "markdown",
   "id": "e1cd0a0f-e67f-418b-b772-4b983d2c6328",
   "metadata": {},
   "source": [
    "### KNN Regression"
   ]
  },
  {
   "cell_type": "code",
   "execution_count": 4,
   "id": "b2d6d33d-8385-4aed-9593-c60a6b9b0311",
   "metadata": {},
   "outputs": [
    {
     "data": {
      "text/html": [
       "<table class=\"dataframe\">\n",
       "<caption>A data.frame: 995 × 6</caption>\n",
       "<thead>\n",
       "\t<tr><th></th><th scope=col>CO</th><th scope=col>Temperature</th><th scope=col>Pressure</th><th scope=col>Dew_Point_Temperature</th><th scope=col>Rain</th><th scope=col>Wind_Speed</th></tr>\n",
       "\t<tr><th></th><th scope=col>&lt;int&gt;</th><th scope=col>&lt;dbl&gt;</th><th scope=col>&lt;dbl&gt;</th><th scope=col>&lt;dbl&gt;</th><th scope=col>&lt;dbl&gt;</th><th scope=col>&lt;dbl&gt;</th></tr>\n",
       "</thead>\n",
       "<tbody>\n",
       "\t<tr><th scope=row>1</th><td> 300</td><td>-0.5</td><td>1024.5</td><td>-21.4</td><td>0</td><td>5.7</td></tr>\n",
       "\t<tr><th scope=row>2</th><td> 700</td><td> 0.1</td><td>1031.7</td><td>-18.1</td><td>0</td><td>0.5</td></tr>\n",
       "\t<tr><th scope=row>3</th><td>1600</td><td> 9.9</td><td>1014.1</td><td>-10.3</td><td>0</td><td>1.0</td></tr>\n",
       "\t<tr><th scope=row>⋮</th><td>⋮</td><td>⋮</td><td>⋮</td><td>⋮</td><td>⋮</td><td>⋮</td></tr>\n",
       "\t<tr><th scope=row>1026</th><td> 700</td><td> 1.900</td><td>1019.7</td><td>-10.6</td><td>0</td><td>4.3</td></tr>\n",
       "\t<tr><th scope=row>1027</th><td> 900</td><td> 1.275</td><td>1020.0</td><td>-10.3</td><td>0</td><td>2.7</td></tr>\n",
       "\t<tr><th scope=row>1028</th><td>1600</td><td>-4.950</td><td>1025.0</td><td>-12.1</td><td>0</td><td>1.2</td></tr>\n",
       "</tbody>\n",
       "</table>\n"
      ],
      "text/latex": [
       "A data.frame: 995 × 6\n",
       "\\begin{tabular}{r|llllll}\n",
       "  & CO & Temperature & Pressure & Dew\\_Point\\_Temperature & Rain & Wind\\_Speed\\\\\n",
       "  & <int> & <dbl> & <dbl> & <dbl> & <dbl> & <dbl>\\\\\n",
       "\\hline\n",
       "\t1 &  300 & -0.5 & 1024.5 & -21.4 & 0 & 5.7\\\\\n",
       "\t2 &  700 &  0.1 & 1031.7 & -18.1 & 0 & 0.5\\\\\n",
       "\t3 & 1600 &  9.9 & 1014.1 & -10.3 & 0 & 1.0\\\\\n",
       "\t⋮ & ⋮ & ⋮ & ⋮ & ⋮ & ⋮ & ⋮\\\\\n",
       "\t1026 &  700 &  1.900 & 1019.7 & -10.6 & 0 & 4.3\\\\\n",
       "\t1027 &  900 &  1.275 & 1020.0 & -10.3 & 0 & 2.7\\\\\n",
       "\t1028 & 1600 & -4.950 & 1025.0 & -12.1 & 0 & 1.2\\\\\n",
       "\\end{tabular}\n"
      ],
      "text/markdown": [
       "\n",
       "A data.frame: 995 × 6\n",
       "\n",
       "| <!--/--> | CO &lt;int&gt; | Temperature &lt;dbl&gt; | Pressure &lt;dbl&gt; | Dew_Point_Temperature &lt;dbl&gt; | Rain &lt;dbl&gt; | Wind_Speed &lt;dbl&gt; |\n",
       "|---|---|---|---|---|---|---|\n",
       "| 1 |  300 | -0.5 | 1024.5 | -21.4 | 0 | 5.7 |\n",
       "| 2 |  700 |  0.1 | 1031.7 | -18.1 | 0 | 0.5 |\n",
       "| 3 | 1600 |  9.9 | 1014.1 | -10.3 | 0 | 1.0 |\n",
       "| ⋮ | ⋮ | ⋮ | ⋮ | ⋮ | ⋮ | ⋮ |\n",
       "| 1026 |  700 |  1.900 | 1019.7 | -10.6 | 0 | 4.3 |\n",
       "| 1027 |  900 |  1.275 | 1020.0 | -10.3 | 0 | 2.7 |\n",
       "| 1028 | 1600 | -4.950 | 1025.0 | -12.1 | 0 | 1.2 |\n",
       "\n"
      ],
      "text/plain": [
       "     CO   Temperature Pressure Dew_Point_Temperature Rain Wind_Speed\n",
       "1     300 -0.5        1024.5   -21.4                 0    5.7       \n",
       "2     700  0.1        1031.7   -18.1                 0    0.5       \n",
       "3    1600  9.9        1014.1   -10.3                 0    1.0       \n",
       "⋮    ⋮    ⋮           ⋮        ⋮                     ⋮    ⋮         \n",
       "1026  700  1.900      1019.7   -10.6                 0    4.3       \n",
       "1027  900  1.275      1020.0   -10.3                 0    2.7       \n",
       "1028 1600 -4.950      1025.0   -12.1                 0    1.2       "
      ]
     },
     "metadata": {},
     "output_type": "display_data"
    }
   ],
   "source": [
    "tidy_data <- weather_data |> slice(seq(from = 1, to = 33917, by=33)) |>\n",
    "            select(-No , -year, -month, -day, -hour, -PM10, -SO2, -NO2, -O3, -wd, -PM2.5, -station)|>\n",
    "            na.omit()\n",
    "\n",
    "colnames(tidy_data) <-\n",
    "            c('CO', 'Temperature' , 'Pressure' , 'Dew_Point_Temperature' , 'Rain' , 'Wind_Speed')\n",
    "\n",
    "tidy_data"
   ]
  },
  {
   "cell_type": "code",
   "execution_count": 5,
   "id": "89be771f-1f5e-44c1-936e-10e48d58673d",
   "metadata": {},
   "outputs": [
    {
     "data": {
      "text/plain": [
       "<Training/Testing/Total>\n",
       "<744/251/995>"
      ]
     },
     "metadata": {},
     "output_type": "display_data"
    },
    {
     "data": {
      "text/html": [
       "<table class=\"dataframe\">\n",
       "<caption>A data.frame: 744 × 6</caption>\n",
       "<thead>\n",
       "\t<tr><th></th><th scope=col>CO</th><th scope=col>Temperature</th><th scope=col>Pressure</th><th scope=col>Dew_Point_Temperature</th><th scope=col>Rain</th><th scope=col>Wind_Speed</th></tr>\n",
       "\t<tr><th></th><th scope=col>&lt;int&gt;</th><th scope=col>&lt;dbl&gt;</th><th scope=col>&lt;dbl&gt;</th><th scope=col>&lt;dbl&gt;</th><th scope=col>&lt;dbl&gt;</th><th scope=col>&lt;dbl&gt;</th></tr>\n",
       "</thead>\n",
       "<tbody>\n",
       "\t<tr><th scope=row>1</th><td>300</td><td>-0.5</td><td>1024.5</td><td>-21.4</td><td>0</td><td>5.7</td></tr>\n",
       "\t<tr><th scope=row>8</th><td>400</td><td>11.3</td><td>1020.4</td><td>-16.2</td><td>0</td><td>3.9</td></tr>\n",
       "\t<tr><th scope=row>21</th><td>500</td><td>10.7</td><td>1017.6</td><td>-10.8</td><td>0</td><td>5.5</td></tr>\n",
       "\t<tr><th scope=row>⋮</th><td>⋮</td><td>⋮</td><td>⋮</td><td>⋮</td><td>⋮</td><td>⋮</td></tr>\n",
       "\t<tr><th scope=row>1020</th><td>4100</td><td>-5.8</td><td>1023.6</td><td>-8.5</td><td>0</td><td>0.9</td></tr>\n",
       "\t<tr><th scope=row>1021</th><td>7200</td><td> 0.7</td><td>1020.9</td><td>-4.0</td><td>0</td><td>0.9</td></tr>\n",
       "\t<tr><th scope=row>1022</th><td>3400</td><td>-0.6</td><td>1020.8</td><td>-9.3</td><td>0</td><td>0.2</td></tr>\n",
       "</tbody>\n",
       "</table>\n"
      ],
      "text/latex": [
       "A data.frame: 744 × 6\n",
       "\\begin{tabular}{r|llllll}\n",
       "  & CO & Temperature & Pressure & Dew\\_Point\\_Temperature & Rain & Wind\\_Speed\\\\\n",
       "  & <int> & <dbl> & <dbl> & <dbl> & <dbl> & <dbl>\\\\\n",
       "\\hline\n",
       "\t1 & 300 & -0.5 & 1024.5 & -21.4 & 0 & 5.7\\\\\n",
       "\t8 & 400 & 11.3 & 1020.4 & -16.2 & 0 & 3.9\\\\\n",
       "\t21 & 500 & 10.7 & 1017.6 & -10.8 & 0 & 5.5\\\\\n",
       "\t⋮ & ⋮ & ⋮ & ⋮ & ⋮ & ⋮ & ⋮\\\\\n",
       "\t1020 & 4100 & -5.8 & 1023.6 & -8.5 & 0 & 0.9\\\\\n",
       "\t1021 & 7200 &  0.7 & 1020.9 & -4.0 & 0 & 0.9\\\\\n",
       "\t1022 & 3400 & -0.6 & 1020.8 & -9.3 & 0 & 0.2\\\\\n",
       "\\end{tabular}\n"
      ],
      "text/markdown": [
       "\n",
       "A data.frame: 744 × 6\n",
       "\n",
       "| <!--/--> | CO &lt;int&gt; | Temperature &lt;dbl&gt; | Pressure &lt;dbl&gt; | Dew_Point_Temperature &lt;dbl&gt; | Rain &lt;dbl&gt; | Wind_Speed &lt;dbl&gt; |\n",
       "|---|---|---|---|---|---|---|\n",
       "| 1 | 300 | -0.5 | 1024.5 | -21.4 | 0 | 5.7 |\n",
       "| 8 | 400 | 11.3 | 1020.4 | -16.2 | 0 | 3.9 |\n",
       "| 21 | 500 | 10.7 | 1017.6 | -10.8 | 0 | 5.5 |\n",
       "| ⋮ | ⋮ | ⋮ | ⋮ | ⋮ | ⋮ | ⋮ |\n",
       "| 1020 | 4100 | -5.8 | 1023.6 | -8.5 | 0 | 0.9 |\n",
       "| 1021 | 7200 |  0.7 | 1020.9 | -4.0 | 0 | 0.9 |\n",
       "| 1022 | 3400 | -0.6 | 1020.8 | -9.3 | 0 | 0.2 |\n",
       "\n"
      ],
      "text/plain": [
       "     CO   Temperature Pressure Dew_Point_Temperature Rain Wind_Speed\n",
       "1    300  -0.5        1024.5   -21.4                 0    5.7       \n",
       "8    400  11.3        1020.4   -16.2                 0    3.9       \n",
       "21   500  10.7        1017.6   -10.8                 0    5.5       \n",
       "⋮    ⋮    ⋮           ⋮        ⋮                     ⋮    ⋮         \n",
       "1020 4100 -5.8        1023.6   -8.5                  0    0.9       \n",
       "1021 7200  0.7        1020.9   -4.0                  0    0.9       \n",
       "1022 3400 -0.6        1020.8   -9.3                  0    0.2       "
      ]
     },
     "metadata": {},
     "output_type": "display_data"
    },
    {
     "data": {
      "text/html": [
       "<table class=\"dataframe\">\n",
       "<caption>A data.frame: 251 × 6</caption>\n",
       "<thead>\n",
       "\t<tr><th></th><th scope=col>CO</th><th scope=col>Temperature</th><th scope=col>Pressure</th><th scope=col>Dew_Point_Temperature</th><th scope=col>Rain</th><th scope=col>Wind_Speed</th></tr>\n",
       "\t<tr><th></th><th scope=col>&lt;int&gt;</th><th scope=col>&lt;dbl&gt;</th><th scope=col>&lt;dbl&gt;</th><th scope=col>&lt;dbl&gt;</th><th scope=col>&lt;dbl&gt;</th><th scope=col>&lt;dbl&gt;</th></tr>\n",
       "</thead>\n",
       "<tbody>\n",
       "\t<tr><th scope=row>2</th><td> 700</td><td>0.1</td><td>1031.7</td><td>-18.1</td><td>0</td><td>0.5</td></tr>\n",
       "\t<tr><th scope=row>6</th><td>4200</td><td>8.6</td><td> 999.5</td><td>  0.1</td><td>0</td><td>0.6</td></tr>\n",
       "\t<tr><th scope=row>7</th><td>2799</td><td>4.0</td><td> 994.1</td><td> -3.5</td><td>0</td><td>1.4</td></tr>\n",
       "\t<tr><th scope=row>⋮</th><td>⋮</td><td>⋮</td><td>⋮</td><td>⋮</td><td>⋮</td><td>⋮</td></tr>\n",
       "\t<tr><th scope=row>1018</th><td>1700</td><td>-1.4</td><td>1027.7</td><td>-13.9</td><td>0</td><td>4.0</td></tr>\n",
       "\t<tr><th scope=row>1024</th><td>4500</td><td> 3.5</td><td>1026.1</td><td> -4.0</td><td>0</td><td>1.2</td></tr>\n",
       "\t<tr><th scope=row>1025</th><td>4300</td><td> 2.0</td><td>1020.5</td><td> -2.9</td><td>0</td><td>0.8</td></tr>\n",
       "</tbody>\n",
       "</table>\n"
      ],
      "text/latex": [
       "A data.frame: 251 × 6\n",
       "\\begin{tabular}{r|llllll}\n",
       "  & CO & Temperature & Pressure & Dew\\_Point\\_Temperature & Rain & Wind\\_Speed\\\\\n",
       "  & <int> & <dbl> & <dbl> & <dbl> & <dbl> & <dbl>\\\\\n",
       "\\hline\n",
       "\t2 &  700 & 0.1 & 1031.7 & -18.1 & 0 & 0.5\\\\\n",
       "\t6 & 4200 & 8.6 &  999.5 &   0.1 & 0 & 0.6\\\\\n",
       "\t7 & 2799 & 4.0 &  994.1 &  -3.5 & 0 & 1.4\\\\\n",
       "\t⋮ & ⋮ & ⋮ & ⋮ & ⋮ & ⋮ & ⋮\\\\\n",
       "\t1018 & 1700 & -1.4 & 1027.7 & -13.9 & 0 & 4.0\\\\\n",
       "\t1024 & 4500 &  3.5 & 1026.1 &  -4.0 & 0 & 1.2\\\\\n",
       "\t1025 & 4300 &  2.0 & 1020.5 &  -2.9 & 0 & 0.8\\\\\n",
       "\\end{tabular}\n"
      ],
      "text/markdown": [
       "\n",
       "A data.frame: 251 × 6\n",
       "\n",
       "| <!--/--> | CO &lt;int&gt; | Temperature &lt;dbl&gt; | Pressure &lt;dbl&gt; | Dew_Point_Temperature &lt;dbl&gt; | Rain &lt;dbl&gt; | Wind_Speed &lt;dbl&gt; |\n",
       "|---|---|---|---|---|---|---|\n",
       "| 2 |  700 | 0.1 | 1031.7 | -18.1 | 0 | 0.5 |\n",
       "| 6 | 4200 | 8.6 |  999.5 |   0.1 | 0 | 0.6 |\n",
       "| 7 | 2799 | 4.0 |  994.1 |  -3.5 | 0 | 1.4 |\n",
       "| ⋮ | ⋮ | ⋮ | ⋮ | ⋮ | ⋮ | ⋮ |\n",
       "| 1018 | 1700 | -1.4 | 1027.7 | -13.9 | 0 | 4.0 |\n",
       "| 1024 | 4500 |  3.5 | 1026.1 |  -4.0 | 0 | 1.2 |\n",
       "| 1025 | 4300 |  2.0 | 1020.5 |  -2.9 | 0 | 0.8 |\n",
       "\n"
      ],
      "text/plain": [
       "     CO   Temperature Pressure Dew_Point_Temperature Rain Wind_Speed\n",
       "2     700 0.1         1031.7   -18.1                 0    0.5       \n",
       "6    4200 8.6          999.5     0.1                 0    0.6       \n",
       "7    2799 4.0          994.1    -3.5                 0    1.4       \n",
       "⋮    ⋮    ⋮           ⋮        ⋮                     ⋮    ⋮         \n",
       "1018 1700 -1.4        1027.7   -13.9                 0    4.0       \n",
       "1024 4500  3.5        1026.1    -4.0                 0    1.2       \n",
       "1025 4300  2.0        1020.5    -2.9                 0    0.8       "
      ]
     },
     "metadata": {},
     "output_type": "display_data"
    }
   ],
   "source": [
    "set.seed(2000) \n",
    "\n",
    "weather_split <- initial_split(tidy_data, prop = 0.75, strata = CO)\n",
    "weather_training <- training(weather_split)\n",
    "weather_testing <- testing(weather_split)\n",
    "\n",
    "\n",
    "weather_split\n",
    "weather_training\n",
    "weather_testing"
   ]
  },
  {
   "cell_type": "code",
   "execution_count": 6,
   "id": "7c5881fd-a2be-433f-b420-f3ed8899934c",
   "metadata": {},
   "outputs": [
    {
     "data": {
      "text/plain": [
       "K-Nearest Neighbor Model Specification (regression)\n",
       "\n",
       "Main Arguments:\n",
       "  neighbors = tune()\n",
       "  weight_func = rectangular\n",
       "\n",
       "Computational engine: kknn \n"
      ]
     },
     "metadata": {},
     "output_type": "display_data"
    },
    {
     "data": {
      "text/plain": [
       "Recipe\n",
       "\n",
       "Inputs:\n",
       "\n",
       "      role #variables\n",
       "   outcome          1\n",
       " predictor          5\n",
       "\n",
       "Operations:\n",
       "\n",
       "Scaling for all_predictors()\n",
       "Centering for all_predictors()"
      ]
     },
     "metadata": {},
     "output_type": "display_data"
    }
   ],
   "source": [
    "weather_spec <- nearest_neighbor(weight_func = \"rectangular\", neighbors = tune()) |> \n",
    "                set_engine(\"kknn\") |>\n",
    "                set_mode(\"regression\") \n",
    "\n",
    "weather_recipe <- recipe(CO ~. , data = weather_training) |>\n",
    "                step_scale(all_predictors()) |>\n",
    "                step_center(all_predictors())\n",
    "weather_spec\n",
    "weather_recipe"
   ]
  },
  {
   "cell_type": "code",
   "execution_count": 7,
   "id": "a27604de-afaf-4545-ab59-745933a6d7a1",
   "metadata": {},
   "outputs": [
    {
     "data": {
      "text/plain": [
       "══ Workflow ════════════════════════════════════════════════════════════════════\n",
       "\u001b[3mPreprocessor:\u001b[23m Recipe\n",
       "\u001b[3mModel:\u001b[23m nearest_neighbor()\n",
       "\n",
       "── Preprocessor ────────────────────────────────────────────────────────────────\n",
       "2 Recipe Steps\n",
       "\n",
       "• step_scale()\n",
       "• step_center()\n",
       "\n",
       "── Model ───────────────────────────────────────────────────────────────────────\n",
       "K-Nearest Neighbor Model Specification (regression)\n",
       "\n",
       "Main Arguments:\n",
       "  neighbors = tune()\n",
       "  weight_func = rectangular\n",
       "\n",
       "Computational engine: kknn \n"
      ]
     },
     "metadata": {},
     "output_type": "display_data"
    }
   ],
   "source": [
    "set.seed(1234) \n",
    "\n",
    "weather_vfold <- vfold_cv(weather_training, v = 5, strata = CO)\n",
    "\n",
    "weather_workflow <- workflow() |>\n",
    "                    add_recipe(weather_recipe) |>\n",
    "                    add_model(weather_spec)\n",
    "weather_workflow"
   ]
  },
  {
   "cell_type": "code",
   "execution_count": 8,
   "id": "55080bcc-fefd-4eeb-a105-e4fa39aac2e5",
   "metadata": {},
   "outputs": [
    {
     "data": {
      "text/html": [
       "<table class=\"dataframe\">\n",
       "<caption>A tibble: 400 × 7</caption>\n",
       "<thead>\n",
       "\t<tr><th scope=col>neighbors</th><th scope=col>.metric</th><th scope=col>.estimator</th><th scope=col>mean</th><th scope=col>n</th><th scope=col>std_err</th><th scope=col>.config</th></tr>\n",
       "\t<tr><th scope=col>&lt;int&gt;</th><th scope=col>&lt;chr&gt;</th><th scope=col>&lt;chr&gt;</th><th scope=col>&lt;dbl&gt;</th><th scope=col>&lt;int&gt;</th><th scope=col>&lt;dbl&gt;</th><th scope=col>&lt;chr&gt;</th></tr>\n",
       "</thead>\n",
       "<tbody>\n",
       "\t<tr><td>1</td><td>rmse</td><td>standard</td><td>1109.7475120</td><td>5</td><td>28.88113241</td><td>Preprocessor1_Model001</td></tr>\n",
       "\t<tr><td>1</td><td>rsq </td><td>standard</td><td>   0.2525164</td><td>5</td><td> 0.02060556</td><td>Preprocessor1_Model001</td></tr>\n",
       "\t<tr><td>2</td><td>rmse</td><td>standard</td><td> 963.2915924</td><td>5</td><td>33.90327266</td><td>Preprocessor1_Model002</td></tr>\n",
       "\t<tr><td>⋮</td><td>⋮</td><td>⋮</td><td>⋮</td><td>⋮</td><td>⋮</td><td>⋮</td></tr>\n",
       "\t<tr><td>199</td><td>rsq </td><td>standard</td><td>   0.2354269</td><td>5</td><td> 0.01992339</td><td>Preprocessor1_Model199</td></tr>\n",
       "\t<tr><td>200</td><td>rmse</td><td>standard</td><td>1007.6161036</td><td>5</td><td>40.77216544</td><td>Preprocessor1_Model200</td></tr>\n",
       "\t<tr><td>200</td><td>rsq </td><td>standard</td><td>   0.2336986</td><td>5</td><td> 0.02010882</td><td>Preprocessor1_Model200</td></tr>\n",
       "</tbody>\n",
       "</table>\n"
      ],
      "text/latex": [
       "A tibble: 400 × 7\n",
       "\\begin{tabular}{lllllll}\n",
       " neighbors & .metric & .estimator & mean & n & std\\_err & .config\\\\\n",
       " <int> & <chr> & <chr> & <dbl> & <int> & <dbl> & <chr>\\\\\n",
       "\\hline\n",
       "\t 1 & rmse & standard & 1109.7475120 & 5 & 28.88113241 & Preprocessor1\\_Model001\\\\\n",
       "\t 1 & rsq  & standard &    0.2525164 & 5 &  0.02060556 & Preprocessor1\\_Model001\\\\\n",
       "\t 2 & rmse & standard &  963.2915924 & 5 & 33.90327266 & Preprocessor1\\_Model002\\\\\n",
       "\t ⋮ & ⋮ & ⋮ & ⋮ & ⋮ & ⋮ & ⋮\\\\\n",
       "\t 199 & rsq  & standard &    0.2354269 & 5 &  0.01992339 & Preprocessor1\\_Model199\\\\\n",
       "\t 200 & rmse & standard & 1007.6161036 & 5 & 40.77216544 & Preprocessor1\\_Model200\\\\\n",
       "\t 200 & rsq  & standard &    0.2336986 & 5 &  0.02010882 & Preprocessor1\\_Model200\\\\\n",
       "\\end{tabular}\n"
      ],
      "text/markdown": [
       "\n",
       "A tibble: 400 × 7\n",
       "\n",
       "| neighbors &lt;int&gt; | .metric &lt;chr&gt; | .estimator &lt;chr&gt; | mean &lt;dbl&gt; | n &lt;int&gt; | std_err &lt;dbl&gt; | .config &lt;chr&gt; |\n",
       "|---|---|---|---|---|---|---|\n",
       "| 1 | rmse | standard | 1109.7475120 | 5 | 28.88113241 | Preprocessor1_Model001 |\n",
       "| 1 | rsq  | standard |    0.2525164 | 5 |  0.02060556 | Preprocessor1_Model001 |\n",
       "| 2 | rmse | standard |  963.2915924 | 5 | 33.90327266 | Preprocessor1_Model002 |\n",
       "| ⋮ | ⋮ | ⋮ | ⋮ | ⋮ | ⋮ | ⋮ |\n",
       "| 199 | rsq  | standard |    0.2354269 | 5 |  0.01992339 | Preprocessor1_Model199 |\n",
       "| 200 | rmse | standard | 1007.6161036 | 5 | 40.77216544 | Preprocessor1_Model200 |\n",
       "| 200 | rsq  | standard |    0.2336986 | 5 |  0.02010882 | Preprocessor1_Model200 |\n",
       "\n"
      ],
      "text/plain": [
       "    neighbors .metric .estimator mean         n std_err    \n",
       "1   1         rmse    standard   1109.7475120 5 28.88113241\n",
       "2   1         rsq     standard      0.2525164 5  0.02060556\n",
       "3   2         rmse    standard    963.2915924 5 33.90327266\n",
       "⋮   ⋮         ⋮       ⋮          ⋮            ⋮ ⋮          \n",
       "398 199       rsq     standard      0.2354269 5  0.01992339\n",
       "399 200       rmse    standard   1007.6161036 5 40.77216544\n",
       "400 200       rsq     standard      0.2336986 5  0.02010882\n",
       "    .config               \n",
       "1   Preprocessor1_Model001\n",
       "2   Preprocessor1_Model001\n",
       "3   Preprocessor1_Model002\n",
       "⋮   ⋮                     \n",
       "398 Preprocessor1_Model199\n",
       "399 Preprocessor1_Model200\n",
       "400 Preprocessor1_Model200"
      ]
     },
     "metadata": {},
     "output_type": "display_data"
    }
   ],
   "source": [
    "set.seed(2019)\n",
    "\n",
    "gridvals <- tibble(neighbors = seq(from = 1, to = 200))\n",
    "\n",
    "weather_results <- weather_workflow |>\n",
    "                  tune_grid(resamples = weather_vfold, grid = gridvals) |>\n",
    "                  collect_metrics()\n",
    "\n",
    "weather_results"
   ]
  },
  {
   "cell_type": "code",
   "execution_count": 9,
   "id": "c2194498-af0c-4271-9dd2-353129063096",
   "metadata": {},
   "outputs": [
    {
     "data": {
      "text/html": [
       "<table class=\"dataframe\">\n",
       "<caption>A tibble: 1 × 7</caption>\n",
       "<thead>\n",
       "\t<tr><th scope=col>neighbors</th><th scope=col>.metric</th><th scope=col>.estimator</th><th scope=col>mean</th><th scope=col>n</th><th scope=col>std_err</th><th scope=col>.config</th></tr>\n",
       "\t<tr><th scope=col>&lt;int&gt;</th><th scope=col>&lt;chr&gt;</th><th scope=col>&lt;chr&gt;</th><th scope=col>&lt;dbl&gt;</th><th scope=col>&lt;int&gt;</th><th scope=col>&lt;dbl&gt;</th><th scope=col>&lt;chr&gt;</th></tr>\n",
       "</thead>\n",
       "<tbody>\n",
       "\t<tr><td>9</td><td>rmse</td><td>standard</td><td>869.0211</td><td>5</td><td>38.97344</td><td>Preprocessor1_Model009</td></tr>\n",
       "</tbody>\n",
       "</table>\n"
      ],
      "text/latex": [
       "A tibble: 1 × 7\n",
       "\\begin{tabular}{lllllll}\n",
       " neighbors & .metric & .estimator & mean & n & std\\_err & .config\\\\\n",
       " <int> & <chr> & <chr> & <dbl> & <int> & <dbl> & <chr>\\\\\n",
       "\\hline\n",
       "\t 9 & rmse & standard & 869.0211 & 5 & 38.97344 & Preprocessor1\\_Model009\\\\\n",
       "\\end{tabular}\n"
      ],
      "text/markdown": [
       "\n",
       "A tibble: 1 × 7\n",
       "\n",
       "| neighbors &lt;int&gt; | .metric &lt;chr&gt; | .estimator &lt;chr&gt; | mean &lt;dbl&gt; | n &lt;int&gt; | std_err &lt;dbl&gt; | .config &lt;chr&gt; |\n",
       "|---|---|---|---|---|---|---|\n",
       "| 9 | rmse | standard | 869.0211 | 5 | 38.97344 | Preprocessor1_Model009 |\n",
       "\n"
      ],
      "text/plain": [
       "  neighbors .metric .estimator mean     n std_err  .config               \n",
       "1 9         rmse    standard   869.0211 5 38.97344 Preprocessor1_Model009"
      ]
     },
     "metadata": {},
     "output_type": "display_data"
    }
   ],
   "source": [
    "weather_min <- weather_results |>\n",
    "    filter(.metric == \"rmse\") |>\n",
    "    arrange(mean) |> \n",
    "    slice(1)\n",
    "weather_min\n",
    "k_min <- weather_min |>\n",
    "          pull(neighbors)\n",
    "weather_best_spec <- nearest_neighbor(weight_func = \"rectangular\", neighbors = k_min) |>\n",
    "          set_engine(\"kknn\") |>\n",
    "          set_mode(\"regression\")\n",
    "weather_best_fit <- workflow() |>\n",
    "          add_recipe(weather_recipe) |>\n",
    "          add_model(weather_best_spec) |>\n",
    "          fit(data = weather_training)"
   ]
  },
  {
   "cell_type": "code",
   "execution_count": 12,
   "id": "6d6a70f7-9422-43a8-acc0-891432c0a142",
   "metadata": {},
   "outputs": [
    {
     "data": {
      "text/html": [
       "<table class=\"dataframe\">\n",
       "<caption>A tibble: 744 × 7</caption>\n",
       "<thead>\n",
       "\t<tr><th scope=col>.pred</th><th scope=col>CO</th><th scope=col>Temperature</th><th scope=col>Pressure</th><th scope=col>Dew_Point_Temperature</th><th scope=col>Rain</th><th scope=col>Wind_Speed</th></tr>\n",
       "\t<tr><th scope=col>&lt;dbl&gt;</th><th scope=col>&lt;int&gt;</th><th scope=col>&lt;dbl&gt;</th><th scope=col>&lt;dbl&gt;</th><th scope=col>&lt;dbl&gt;</th><th scope=col>&lt;dbl&gt;</th><th scope=col>&lt;dbl&gt;</th></tr>\n",
       "</thead>\n",
       "<tbody>\n",
       "\t<tr><td>388.8889</td><td>300</td><td>-0.5</td><td>1024.5</td><td>-21.4</td><td>0</td><td>5.7</td></tr>\n",
       "\t<tr><td>466.6667</td><td>400</td><td>11.3</td><td>1020.4</td><td>-16.2</td><td>0</td><td>3.9</td></tr>\n",
       "\t<tr><td>322.2222</td><td>500</td><td>10.7</td><td>1017.6</td><td>-10.8</td><td>0</td><td>5.5</td></tr>\n",
       "\t<tr><td>⋮</td><td>⋮</td><td>⋮</td><td>⋮</td><td>⋮</td><td>⋮</td><td>⋮</td></tr>\n",
       "\t<tr><td>3433.333</td><td>4100</td><td>-5.8</td><td>1023.6</td><td>-8.5</td><td>0</td><td>0.9</td></tr>\n",
       "\t<tr><td>2922.222</td><td>7200</td><td> 0.7</td><td>1020.9</td><td>-4.0</td><td>0</td><td>0.9</td></tr>\n",
       "\t<tr><td>3144.444</td><td>3400</td><td>-0.6</td><td>1020.8</td><td>-9.3</td><td>0</td><td>0.2</td></tr>\n",
       "</tbody>\n",
       "</table>\n"
      ],
      "text/latex": [
       "A tibble: 744 × 7\n",
       "\\begin{tabular}{lllllll}\n",
       " .pred & CO & Temperature & Pressure & Dew\\_Point\\_Temperature & Rain & Wind\\_Speed\\\\\n",
       " <dbl> & <int> & <dbl> & <dbl> & <dbl> & <dbl> & <dbl>\\\\\n",
       "\\hline\n",
       "\t 388.8889 & 300 & -0.5 & 1024.5 & -21.4 & 0 & 5.7\\\\\n",
       "\t 466.6667 & 400 & 11.3 & 1020.4 & -16.2 & 0 & 3.9\\\\\n",
       "\t 322.2222 & 500 & 10.7 & 1017.6 & -10.8 & 0 & 5.5\\\\\n",
       "\t ⋮ & ⋮ & ⋮ & ⋮ & ⋮ & ⋮ & ⋮\\\\\n",
       "\t 3433.333 & 4100 & -5.8 & 1023.6 & -8.5 & 0 & 0.9\\\\\n",
       "\t 2922.222 & 7200 &  0.7 & 1020.9 & -4.0 & 0 & 0.9\\\\\n",
       "\t 3144.444 & 3400 & -0.6 & 1020.8 & -9.3 & 0 & 0.2\\\\\n",
       "\\end{tabular}\n"
      ],
      "text/markdown": [
       "\n",
       "A tibble: 744 × 7\n",
       "\n",
       "| .pred &lt;dbl&gt; | CO &lt;int&gt; | Temperature &lt;dbl&gt; | Pressure &lt;dbl&gt; | Dew_Point_Temperature &lt;dbl&gt; | Rain &lt;dbl&gt; | Wind_Speed &lt;dbl&gt; |\n",
       "|---|---|---|---|---|---|---|\n",
       "| 388.8889 | 300 | -0.5 | 1024.5 | -21.4 | 0 | 5.7 |\n",
       "| 466.6667 | 400 | 11.3 | 1020.4 | -16.2 | 0 | 3.9 |\n",
       "| 322.2222 | 500 | 10.7 | 1017.6 | -10.8 | 0 | 5.5 |\n",
       "| ⋮ | ⋮ | ⋮ | ⋮ | ⋮ | ⋮ | ⋮ |\n",
       "| 3433.333 | 4100 | -5.8 | 1023.6 | -8.5 | 0 | 0.9 |\n",
       "| 2922.222 | 7200 |  0.7 | 1020.9 | -4.0 | 0 | 0.9 |\n",
       "| 3144.444 | 3400 | -0.6 | 1020.8 | -9.3 | 0 | 0.2 |\n",
       "\n"
      ],
      "text/plain": [
       "    .pred    CO   Temperature Pressure Dew_Point_Temperature Rain Wind_Speed\n",
       "1   388.8889 300  -0.5        1024.5   -21.4                 0    5.7       \n",
       "2   466.6667 400  11.3        1020.4   -16.2                 0    3.9       \n",
       "3   322.2222 500  10.7        1017.6   -10.8                 0    5.5       \n",
       "⋮   ⋮        ⋮    ⋮           ⋮        ⋮                     ⋮    ⋮         \n",
       "742 3433.333 4100 -5.8        1023.6   -8.5                  0    0.9       \n",
       "743 2922.222 7200  0.7        1020.9   -4.0                  0    0.9       \n",
       "744 3144.444 3400 -0.6        1020.8   -9.3                  0    0.2       "
      ]
     },
     "metadata": {},
     "output_type": "display_data"
    },
    {
     "data": {
      "image/png": "[encoded data removed]",
      "text/plain": [
       "plot without title"
      ]
     },
     "metadata": {
      "image/png": {
       "height": 420,
       "width": 420
      }
     },
     "output_type": "display_data"
    }
   ],
   "source": [
    "weather_preds <- predict(weather_best_fit, weather_training) |>\n",
    "bind_cols(weather_training)\n",
    "weather_preds\n",
    "weather_plot <- weather_preds |>\n",
    "ggplot(aes(x=Wind_Speed, y=CO))+\n",
    "geom_point()+\n",
    "geom_line(data = weather_preds, \n",
    "            mapping = aes(x = Wind_Speed, y = .pred), \n",
    "            color = \"blue\")+\n",
    "ggtitle(paste0(\"K = \", k_min)) + \n",
    "labs(x=\"wind speed (m/s)\", y= \"predicted CO concentration (ug/m^3\")\n",
    "weather_plot"
   ]
  },
  {
   "cell_type": "markdown",
   "id": "d4fb0ea3-e337-4fcd-bfee-36fc8c562c1e",
   "metadata": {
    "tags": []
   },
   "source": [
    "## Methods\n",
    "We’ll conduct our data analysis with variables as such :\n",
    "\n",
    "1. Objects for Regression:\n",
    "- PM 2.5 \n",
    "- CO\n",
    "\n",
    "2. Predictors:\n",
    "- Temperature (TEMP) \n",
    "- Pressure (PRES) \n",
    "- Dew Point Temperature (DEWP) \n",
    "- Rain (RAIN) \n",
    "- Wind Speed (WSPM)\n",
    "\n",
    "3. Variables NOT included within the analysis and why :\n",
    "- Wind Direction (wd) is categorical therefore is not integrated with the plot. \n",
    "- Seasonal weather may influence the prediction, however this is not our topic of study (year, month, day, hour)\n",
    "- Normalize our data so certain variables with large absolute quantities do not receive undue weight.\n",
    "\n",
    "We will then perform a KNN regression to analyze the effect that weather has on the concentration of pollutants; we will visualize the results through a regression plot on pollutants (PM 2.5 and CO). We will then create separate regression plots for each predictor in relation to our pollutant."
   ]
  },
  {
   "cell_type": "markdown",
   "id": "de883139-1424-455c-91ae-691f23862452",
   "metadata": {},
   "source": [
    "## Expected outcomes and significance\n",
    "1. We expect to find a correlation between meteorological conditions with PM 2.5 and CO, while finding differences between the behaviors in different types of air pollutants reacting to different conditions.\n",
    "\n",
    "2. The relationship between air pollutants and weather conditions may prove the effects of air pollution; helping to advance active pollution reduction technologies or discovering better methods of reducing the penetration of PM 2.5 into households. Also, we may be able to use meteorology combined with behavioral techniques to reduce air pollution.\n",
    "\n",
    "3. What future questions could this lead to?\n",
    "- Is the air pollution temporarily reduced or permanently removed from the air through weather events? \n",
    "Certain pollutants such as PM 2.5 may be integrated into the environment such as how smoke is washed into the soil and turned into ash.\n",
    "\n",
    "- How might meteorological conditions be controlled to reduce air pollution in cities? \n",
    "Techniques such as rain cloud seeding may be available to reduce the concentration of pollutants during high concentration of pollutants."
   ]
  },
  {
   "cell_type": "code",
   "execution_count": null,
   "id": "dfae3218-a67f-4f11-a8a2-91dad8afe03a",
   "metadata": {},
   "outputs": [],
   "source": []
  },
  {
   "cell_type": "code",
   "execution_count": null,
   "id": "cc2a10fe-2c7b-478e-bbb6-407d4dcaed29",
   "metadata": {},
   "outputs": [],
   "source": []
  }
 ],
 "metadata": {
  "kernelspec": {
   "display_name": "R",
   "language": "R",
   "name": "ir"
  },
  "language_info": {
   "codemirror_mode": "r",
   "file_extension": ".r",
   "mimetype": "text/x-r-source",
   "name": "R",
   "pygments_lexer": "r",
   "version": "4.1.3"
  }
 },
 "nbformat": 4,
 "nbformat_minor": 5
}
