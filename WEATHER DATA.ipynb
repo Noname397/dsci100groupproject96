{
 "cells": [
  {
   "cell_type": "markdown",
   "id": "e71e2f2c-1a56-4c35-87a2-3b1617f53179",
   "metadata": {},
   "source": [
    "## **PROPOSAL FOR AIR POLLUTION REGRESSION ANALYSIS**"
   ]
  },
  {
   "cell_type": "markdown",
   "id": "516bdbe1-1de0-4816-8df2-c4f3482b5746",
   "metadata": {
    "tags": []
   },
   "source": [
    "## Introduction\n",
    "\n",
    "Air pollution is affected by the weather due to the moisture and the precipitation affecting the concentration of pollutants through factors like humidity, temperature, and particulate matter. \n",
    "\n",
    "We’re choosing the air pollutant CO and air particles PM 2.5 because both variables frequently emerge in regards to the air pollution in Beijing, specifically the region Tiantan because of the large population of tourists and locals. We can predict the air condition in the region and the impact it has on the community and how we can further improve it. We want to predict CO and PM 2.5 based on the weather which is decided by 5 variables (the temperature (C°), pressure (hPa), dew point temperature (C°), precipitation (mm), wind speed (m/s)). Questions for this regression analysis includes :\n",
    " \n",
    "1. How does the weather affect the concentration of air particle PM 2.5?\n",
    "2. How does the weather affect the concentration of gas pollutant CO?\n",
    "\n",
    "The dataset consists of hourly concentration of air pollutants and meteorological variables from 12 air-monitoring stations in Beijing between March 1, 2013 and February 28, 2017. "
   ]
  },
  {
   "cell_type": "markdown",
   "id": "1736e381-c697-4d0e-bc9a-c236e759538f",
   "metadata": {},
   "source": [
    "## Preliminary Exploratory Data Analysis"
   ]
  },
  {
   "cell_type": "code",
   "execution_count": null,
   "id": "e0841b68-9ae8-4b29-a8de-8c6b5cad7648",
   "metadata": {},
   "outputs": [],
   "source": [
    "library(tidyverse)\n",
    "library(repr)\n",
    "options(repr.matrix.max.rows = 6)\n",
    "library(testthat)\n",
    "library(digest)\n",
    "library(tidymodels)"
   ]
  },
  {
   "cell_type": "markdown",
   "id": "a6206786-f5b1-4197-aaad-44a226b3dcec",
   "metadata": {},
   "source": [
    "## Weather Data Set in Tiantan "
   ]
  },
  {
   "cell_type": "code",
   "execution_count": null,
   "id": "ef139dc9-912c-4266-85d8-8fc8d905455b",
   "metadata": {},
   "outputs": [],
   "source": [
    "weather_data <- read.csv(\"PRSA_Data_Tiantan_20130301-20170228.csv\")\n",
    "weather_data"
   ]
  },
  {
   "cell_type": "markdown",
   "id": "a91e02de-0ab4-4ddf-9722-d8ba9df8a0fe",
   "metadata": {},
   "source": [
    "### Summary Statistics"
   ]
  },
  {
   "cell_type": "code",
   "execution_count": 34,
   "id": "82aa4072-cd46-492f-a1cc-4a5e336f1615",
   "metadata": {},
   "outputs": [
    {
     "data": {
      "text/html": [
       "<table class=\"dataframe\">\n",
       "<caption>A tibble: 5 × 2</caption>\n",
       "<thead>\n",
       "\t<tr><th scope=col>Predictors</th><th scope=col>Mean</th></tr>\n",
       "\t<tr><th scope=col>&lt;chr&gt;</th><th scope=col>&lt;dbl&gt;</th></tr>\n",
       "</thead>\n",
       "<tbody>\n",
       "\t<tr><td>TEMP</td><td>1.367149e+01</td></tr>\n",
       "\t<tr><td>PRES</td><td>1.012547e+03</td></tr>\n",
       "\t<tr><td>DEWP</td><td>2.447535e+00</td></tr>\n",
       "\t<tr><td>RAIN</td><td>6.401952e-02</td></tr>\n",
       "\t<tr><td>WSPM</td><td>1.860785e+00</td></tr>\n",
       "</tbody>\n",
       "</table>\n"
      ],
      "text/latex": [
       "A tibble: 5 × 2\n",
       "\\begin{tabular}{ll}\n",
       " Predictors & Mean\\\\\n",
       " <chr> & <dbl>\\\\\n",
       "\\hline\n",
       "\t TEMP & 1.367149e+01\\\\\n",
       "\t PRES & 1.012547e+03\\\\\n",
       "\t DEWP & 2.447535e+00\\\\\n",
       "\t RAIN & 6.401952e-02\\\\\n",
       "\t WSPM & 1.860785e+00\\\\\n",
       "\\end{tabular}\n"
      ],
      "text/markdown": [
       "\n",
       "A tibble: 5 × 2\n",
       "\n",
       "| Predictors &lt;chr&gt; | Mean &lt;dbl&gt; |\n",
       "|---|---|\n",
       "| TEMP | 1.367149e+01 |\n",
       "| PRES | 1.012547e+03 |\n",
       "| DEWP | 2.447535e+00 |\n",
       "| RAIN | 6.401952e-02 |\n",
       "| WSPM | 1.860785e+00 |\n",
       "\n"
      ],
      "text/plain": [
       "  Predictors Mean        \n",
       "1 TEMP       1.367149e+01\n",
       "2 PRES       1.012547e+03\n",
       "3 DEWP       2.447535e+00\n",
       "4 RAIN       6.401952e-02\n",
       "5 WSPM       1.860785e+00"
      ]
     },
     "metadata": {},
     "output_type": "display_data"
    },
    {
     "data": {
      "text/html": [
       "<table class=\"dataframe\">\n",
       "<caption>A data.frame: 5 × 4</caption>\n",
       "<thead>\n",
       "\t<tr><th scope=col>Predictors</th><th scope=col>Mean</th><th scope=col>Standard_Deviation</th><th scope=col>NA_Count</th></tr>\n",
       "\t<tr><th scope=col>&lt;chr&gt;</th><th scope=col>&lt;dbl&gt;</th><th scope=col>&lt;dbl&gt;</th><th scope=col>&lt;int&gt;</th></tr>\n",
       "</thead>\n",
       "<tbody>\n",
       "\t<tr><td>TEMP</td><td>1.367149e+01</td><td>11.458418</td><td>20</td></tr>\n",
       "\t<tr><td>PRES</td><td>1.012547e+03</td><td>10.266059</td><td>20</td></tr>\n",
       "\t<tr><td>DEWP</td><td>2.447535e+00</td><td>13.810696</td><td>20</td></tr>\n",
       "\t<tr><td>RAIN</td><td>6.401952e-02</td><td> 0.786282</td><td>20</td></tr>\n",
       "\t<tr><td>WSPM</td><td>1.860785e+00</td><td> 1.280368</td><td>14</td></tr>\n",
       "</tbody>\n",
       "</table>\n"
      ],
      "text/latex": [
       "A data.frame: 5 × 4\n",
       "\\begin{tabular}{llll}\n",
       " Predictors & Mean & Standard\\_Deviation & NA\\_Count\\\\\n",
       " <chr> & <dbl> & <dbl> & <int>\\\\\n",
       "\\hline\n",
       "\t TEMP & 1.367149e+01 & 11.458418 & 20\\\\\n",
       "\t PRES & 1.012547e+03 & 10.266059 & 20\\\\\n",
       "\t DEWP & 2.447535e+00 & 13.810696 & 20\\\\\n",
       "\t RAIN & 6.401952e-02 &  0.786282 & 20\\\\\n",
       "\t WSPM & 1.860785e+00 &  1.280368 & 14\\\\\n",
       "\\end{tabular}\n"
      ],
      "text/markdown": [
       "\n",
       "A data.frame: 5 × 4\n",
       "\n",
       "| Predictors &lt;chr&gt; | Mean &lt;dbl&gt; | Standard_Deviation &lt;dbl&gt; | NA_Count &lt;int&gt; |\n",
       "|---|---|---|---|\n",
       "| TEMP | 1.367149e+01 | 11.458418 | 20 |\n",
       "| PRES | 1.012547e+03 | 10.266059 | 20 |\n",
       "| DEWP | 2.447535e+00 | 13.810696 | 20 |\n",
       "| RAIN | 6.401952e-02 |  0.786282 | 20 |\n",
       "| WSPM | 1.860785e+00 |  1.280368 | 14 |\n",
       "\n"
      ],
      "text/plain": [
       "  Predictors Mean         Standard_Deviation NA_Count\n",
       "1 TEMP       1.367149e+01 11.458418          20      \n",
       "2 PRES       1.012547e+03 10.266059          20      \n",
       "3 DEWP       2.447535e+00 13.810696          20      \n",
       "4 RAIN       6.401952e-02  0.786282          20      \n",
       "5 WSPM       1.860785e+00  1.280368          14      "
      ]
     },
     "metadata": {},
     "output_type": "display_data"
    }
   ],
   "source": [
    "weather_predictors <- weather_data |> select('TEMP', 'PRES', 'DEWP', 'RAIN', 'WSPM') |>\n",
    "map_dfr(mean, na.rm = TRUE) |> pivot_longer(cols = TEMP:WSPM, names_to = \"Predictors\", values_to = \"Mean\")\n",
    "\n",
    "weather_predictors\n",
    "\n",
    "Standard_Deviation <- weather_data |> select('TEMP', 'PRES', 'DEWP', 'RAIN', 'WSPM') |>\n",
    "map_dfr(sd, na.rm = TRUE) |> pivot_longer(cols = TEMP:WSPM, names_to = \"Predictors\", values_to = \"Standard Deviation\") |> pull(2)\n",
    "\n",
    "NA_Count <- weather_data |> select('TEMP', 'PRES', 'DEWP', 'RAIN', 'WSPM') |> \n",
    "map_dfr(~sum(is.na(.))) |> pivot_longer(cols = TEMP:WSPM, names_to = \"Predictors\", values_to = \"NA Count\") |> pull(2)\n",
    "\n",
    "summary_statistics <- data.frame(weather_predictors, Standard_Deviation, NA_Count)\n",
    "summary_statistics\n"
   ]
  },
  {
   "cell_type": "markdown",
   "id": "e1cd0a0f-e67f-418b-b772-4b983d2c6328",
   "metadata": {},
   "source": [
    "### KNN Regression"
   ]
  },
  {
   "cell_type": "code",
   "execution_count": null,
   "id": "b2d6d33d-8385-4aed-9593-c60a6b9b0311",
   "metadata": {},
   "outputs": [],
   "source": [
    "tidy_data <- weather_data |>\n",
    "            select(-No , -year, -month, -day, -hour, -PM10, -SO2, -NO2, -O3, -wd, -PM2.5, -station)|>\n",
    "            na.omit()|>\n",
    "            arrange(CO)\n",
    "\n",
    "colnames(tidy_data) <-\n",
    "            c('CO', 'Temperature' , 'Pressure' , 'Dew_Point_Temperature' , 'Rain' , 'Wind_Speed')\n",
    "\n",
    "\n",
    "tidy_data"
   ]
  },
  {
   "cell_type": "code",
   "execution_count": null,
   "id": "89be771f-1f5e-44c1-936e-10e48d58673d",
   "metadata": {},
   "outputs": [],
   "source": [
    "set.seed(2000) \n",
    "\n",
    "weather_split <- initial_split(tidy_data, prop = 0.75, strata = CO)\n",
    "weather_training <- training(weather_split)\n",
    "weather_testing <- testing(weather_split)\n",
    "\n",
    "\n",
    "weather_split\n",
    "weather_training\n",
    "weather_testing"
   ]
  },
  {
   "cell_type": "code",
   "execution_count": null,
   "id": "7c5881fd-a2be-433f-b420-f3ed8899934c",
   "metadata": {},
   "outputs": [],
   "source": [
    "weather_spec <- nearest_neighbor(weight_func = \"rectangular\", neighbors = tune()) |> \n",
    "                set_engine(\"kknn\") |>\n",
    "                set_mode(\"regression\") \n",
    "\n",
    "weather_recipe <- recipe(CO ~. , data = weather_training) |>\n",
    "                step_scale(all_predictors()) |>\n",
    "                step_center(all_predictors())\n",
    "weather_spec\n",
    "weather_recipe"
   ]
  },
  {
   "cell_type": "code",
   "execution_count": null,
   "id": "a27604de-afaf-4545-ab59-745933a6d7a1",
   "metadata": {},
   "outputs": [],
   "source": [
    "set.seed(1234) \n",
    "\n",
    "weather_vfold <- vfold_cv(weather_training, v = 5, strata = CO)\n",
    "\n",
    "weather_workflow <- workflow() |>\n",
    "                    add_recipe(weather_recipe) |>\n",
    "                    add_model(weather_spec)\n",
    "weather_workflow"
   ]
  },
  {
   "cell_type": "code",
   "execution_count": null,
   "id": "55080bcc-fefd-4eeb-a105-e4fa39aac2e5",
   "metadata": {},
   "outputs": [],
   "source": [
    "set.seed(2019)\n",
    "\n",
    "gridvals <- tibble(neighbors = seq(from = 1, to = 200))\n",
    "\n",
    "weather_results <- weather_workflow |>\n",
    "                  tune_grid(resamples = weather_vfold, grid = gridvals) |>\n",
    "                  collect_metrics()\n",
    "\n",
    "weather_results"
   ]
  },
  {
   "cell_type": "markdown",
   "id": "d4fb0ea3-e337-4fcd-bfee-36fc8c562c1e",
   "metadata": {
    "tags": []
   },
   "source": [
    "## Methods\n",
    "We’ll conduct our data analysis with variables as such :\n",
    "\n",
    "1. Objects for Regression:\n",
    "- PM 2.5 \n",
    "- CO\n",
    "\n",
    "2. Predictors:\n",
    "- Temperature (TEMP) \n",
    "- Pressure (PRES) \n",
    "- Dew Point Temperature (DEWP) \n",
    "- Rain (RAIN) \n",
    "- Wind Speed (WSPM)\n",
    "\n",
    "3. Variables NOT included within the analysis and why :\n",
    "- Wind Direction (wd) is categorical therefore is not integrated with the plot. \n",
    "- Seasonal weather may influence the prediction, however this is not our topic of study (year, month, day, hour)\n",
    "- Normalize our data so certain variables with large absolute quantities do not receive undue weight.\n",
    "\n",
    "We will then perform a KNN regression to analyze the effect that weather has on the concentration of pollutants; we will visualize the results through a regression plot on pollutants (PM 2.5 and CO). We will then create separate regression plots for each predictor in relation to our pollutant."
   ]
  },
  {
   "cell_type": "markdown",
   "id": "de883139-1424-455c-91ae-691f23862452",
   "metadata": {},
   "source": [
    "## Expected outcomes and significance\n",
    "1. We expect to find a correlation between meteorological conditions with PM 2.5 and CO, while finding differences between the behaviors in different types of air pollutants reacting to different conditions.\n",
    "\n",
    "2. The relationship between air pollutants and weather conditions may prove the effects of air pollution; helping to advance active pollution reduction technologies or discovering better methods of reducing the penetration of PM 2.5 into households. Also, we may be able to use meteorology combined with behavioral techniques to reduce air pollution.\n",
    "\n",
    "3. What future questions could this lead to?\n",
    "- Is the air pollution temporarily reduced or permanently removed from the air through weather events? \n",
    "Certain pollutants such as PM 2.5 may be integrated into the environment such as how smoke is washed into the soil and turned into ash.\n",
    "\n",
    "- How might meteorological conditions be controlled to reduce air pollution in cities? \n",
    "Techniques such as rain cloud seeding may be available to reduce the concentration of pollutants during high concentration of pollutants."
   ]
  },
  {
   "cell_type": "code",
   "execution_count": null,
   "id": "dfae3218-a67f-4f11-a8a2-91dad8afe03a",
   "metadata": {},
   "outputs": [],
   "source": []
  },
  {
   "cell_type": "code",
   "execution_count": null,
   "id": "cc2a10fe-2c7b-478e-bbb6-407d4dcaed29",
   "metadata": {},
   "outputs": [],
   "source": []
  }
 ],
 "metadata": {
  "kernelspec": {
   "display_name": "R",
   "language": "R",
   "name": "ir"
  },
  "language_info": {
   "codemirror_mode": "r",
   "file_extension": ".r",
   "mimetype": "text/x-r-source",
   "name": "R",
   "pygments_lexer": "r",
   "version": "4.1.3"
  }
 },
 "nbformat": 4,
 "nbformat_minor": 5
}
